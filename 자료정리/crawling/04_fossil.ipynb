{
 "cells": [
  {
   "cell_type": "code",
   "execution_count": 1,
   "metadata": {},
   "outputs": [],
   "source": [
    "import pandas as pd\n",
    "from bs4 import BeautifulSoup\n",
    "import requests\n",
    "from urllib import parse\n",
    "import re\n",
    "import requests"
   ]
  },
  {
   "cell_type": "code",
   "execution_count": 2,
   "metadata": {},
   "outputs": [],
   "source": [
    "URL = \"https://namu.wiki/w/%EB%AA%A8%EC%97%AC%EB%B4%90%EC%9A%94%20%EB%8F%99%EB%AC%BC%EC%9D%98%20%EC%88%B2/%EA%B2%8C%EC%9E%84%20%EA%B4%80%EB%A0%A8%20%EC%A0%95%EB%B3%B4#toc\"\n",
    "def get_html(url):\n",
    "    r = requests.get(url)\n",
    "    return r.text\n",
    "html = get_html(URL)\n",
    "soup=BeautifulSoup(html,\"html.parser\")"
   ]
  },
  {
   "cell_type": "code",
   "execution_count": 3,
   "metadata": {},
   "outputs": [
    {
     "name": "stdout",
     "output_type": "stream",
     "text": [
      "16\n"
     ]
    }
   ],
   "source": [
    "t = soup.find_all(\"table\")\n",
    "print(len(t))"
   ]
  },
  {
   "cell_type": "code",
   "execution_count": 39,
   "metadata": {},
   "outputs": [],
   "source": [
    "# print(t[3])"
   ]
  },
  {
   "cell_type": "code",
   "execution_count": 40,
   "metadata": {},
   "outputs": [
    {
     "name": "stdout",
     "output_type": "stream",
     "text": [
      "[<strong>명칭</strong>, <strong>부위</strong>, <strong>판매 가격</strong>]\n"
     ]
    }
   ],
   "source": [
    "col = t[3].tr # 실제 곤충 데이터가 있는 테이블 설정\n",
    "cols = col.select('strong')\n",
    "print(cols)"
   ]
  },
  {
   "cell_type": "code",
   "execution_count": 41,
   "metadata": {},
   "outputs": [
    {
     "name": "stdout",
     "output_type": "stream",
     "text": [
      "['명칭', '부위', '판매 가격']\n"
     ]
    }
   ],
   "source": [
    "columns = []\n",
    "for column in cols:\n",
    "    columns.append(column.text)\n",
    "print(columns)"
   ]
  },
  {
   "cell_type": "code",
   "execution_count": 42,
   "metadata": {},
   "outputs": [
    {
     "name": "stdout",
     "output_type": "stream",
     "text": [
      "Empty DataFrame\n",
      "Columns: [명칭, 부위, 판매 가격]\n",
      "Index: []\n"
     ]
    }
   ],
   "source": [
    "df = pd.DataFrame(columns = columns)\n",
    "print(df) # 칼럼만 있는 데이터 생성"
   ]
  },
  {
   "cell_type": "code",
   "execution_count": 50,
   "metadata": {},
   "outputs": [
    {
     "name": "stdout",
     "output_type": "stream",
     "text": [
      "30\n",
      "139\n"
     ]
    }
   ],
   "source": [
    "content = t[3].select('td')\n",
    "flist = []\n",
    "for fossil in content:\n",
    "    flist.append(fossil.text)\n",
    "first = flist[3:33]\n",
    "second = flist[33:]\n",
    "print(len(first))\n",
    "print(len(second))"
   ]
  },
  {
   "cell_type": "code",
   "execution_count": 51,
   "metadata": {},
   "outputs": [],
   "source": [
    "for j in range(len(first)//2):\n",
    "#     print(first[j * 2], first[j*2+1])\n",
    "    df.loc[j] = (first[j * 2],'', first[j*2+1]) # 0 6 7 13"
   ]
  },
  {
   "cell_type": "code",
   "execution_count": 52,
   "metadata": {},
   "outputs": [
    {
     "name": "stdout",
     "output_type": "stream",
     "text": [
      "           명칭 부위   판매 가격\n",
      "10    에우스테놉테론     2,000벨\n",
      "11  오스트랄로피테쿠스     1,100벨\n",
      "12      암모나이트     1,100벨\n",
      "13   쥐라마이아[2]     1,500벨\n",
      "14         호박     1,200벨\n"
     ]
    }
   ],
   "source": [
    "print(df.tail())"
   ]
  },
  {
   "cell_type": "code",
   "execution_count": 59,
   "metadata": {},
   "outputs": [
    {
     "name": "stdout",
     "output_type": "stream",
     "text": [
      "['데이노니쿠스', '머리', '3,000벨', '꼬리', '2,500벨', '디메트로돈', '머리', '5,500벨', '몸통', '5,000벨', ' 디플로도쿠스', '머리', '5,000벨', '목', '4,500벨', '가슴', '4,000벨', '허리', '4,500벨', '꼬리', '5,000벨', '꼬리 끝', '', '매머드', '머리', '3,000벨', '몸통', '2,500벨', '메가케롭스', '머리', '4,500벨', '몸통', '3,500벨', '꼬리', '3,000벨', '메갈로케로스', '왼쪽 반신', '4,000벨', '오른쪽 반신', '5,500벨', '브라키오사우루스', '머리', '6,000벨', '가슴', '5,500벨', '허리', '', '꼬리', '5,500벨', '스밀로돈', '머리', '2,500벨', '몸통', '2,000벨', '스테고사우루스', '머리', '5,000벨', '몸통', '4,500벨', '꼬리', '4,000벨', '스피노사우루스', '머리', '4,000벨', '몸통', '3,000벨', '꼬리', '2,500벨', '아르켈론', '머리', '4,000벨', '몸통', '3,500벨', '안킬로사우루스', '머리', '3,500벨', '몸통', '', '꼬리', '2,500벨', '오프탈모사우루스', '머리', '2,500벨', '몸통', '2,000벨', '이구아노돈', '머리', '4,000벨', '몸통', '3,500벨', '꼬리', '3,000벨', '케찰코아틀루스', '머리', '4,500벨', '오른날개', '5,000벨', '왼날개', '5,000벨', '트리케라톱스', '머리', '5,500벨', '몸통', '5,000벨', '꼬리', '4,500벨', '티렉스[3]', '머리', '6,000벨', '몸통', '5,500벨', '꼬리', '5,000벨', '파라사우롤로푸스', '머리', '3,500벨 ', '몸통', '3,000벨', '꼬리', '2,500벨', '파키케팔로사우루스', '머리', '4,000벨', '몸통', '3,500벨', '프테라노돈', '머리', '4,000벨', '오른날개', '4,500벨', '왼날개', '4,500벨', '후타바사우루스', '머리', '4,000벨 ', '몸통', '4,500벨', '꼬리', '4,500벨']\n"
     ]
    }
   ],
   "source": [
    "print(second)\n",
    "for j in range(len(second)//3):\n",
    "#     print(second[j * 3], second[j*3+1], second[j*3+2])\n",
    "    df.loc[j+14] = (second[j * 3], second[j*3+1], second[j*3+2]) # 0 6 7 13"
   ]
  },
  {
   "cell_type": "code",
   "execution_count": 60,
   "metadata": {},
   "outputs": [
    {
     "name": "stdout",
     "output_type": "stream",
     "text": [
      "         명칭      부위    판매 가격\n",
      "55       몸통  3,500벨    프테라노돈\n",
      "56       머리  4,000벨     오른날개\n",
      "57   4,500벨     왼날개   4,500벨\n",
      "58  후타바사우루스      머리  4,000벨 \n",
      "59       몸통  4,500벨       꼬리\n"
     ]
    }
   ],
   "source": [
    "print(df.tail())"
   ]
  },
  {
   "cell_type": "code",
   "execution_count": 35,
   "metadata": {},
   "outputs": [
    {
     "name": "stdout",
     "output_type": "stream",
     "text": [
      "           명칭 부위   판매 가격\n",
      "10    에우스테놉테론     2,000벨\n",
      "11  오스트랄로피테쿠스     1,100벨\n",
      "12      암모나이트     1,100벨\n",
      "13   쥐라마이아[2]     1,500벨\n",
      "14         호박     1,200벨\n"
     ]
    }
   ],
   "source": [
    "print(df.tail())"
   ]
  },
  {
   "cell_type": "code",
   "execution_count": 61,
   "metadata": {},
   "outputs": [],
   "source": [
    "df.to_excel('fossils.xlsx')"
   ]
  },
  {
   "cell_type": "code",
   "execution_count": null,
   "metadata": {},
   "outputs": [],
   "source": []
  }
 ],
 "metadata": {
  "kernelspec": {
   "display_name": "Python 3",
   "language": "python",
   "name": "python3"
  },
  "language_info": {
   "codemirror_mode": {
    "name": "ipython",
    "version": 3
   },
   "file_extension": ".py",
   "mimetype": "text/x-python",
   "name": "python",
   "nbconvert_exporter": "python",
   "pygments_lexer": "ipython3",
   "version": "3.7.6"
  }
 },
 "nbformat": 4,
 "nbformat_minor": 4
}
