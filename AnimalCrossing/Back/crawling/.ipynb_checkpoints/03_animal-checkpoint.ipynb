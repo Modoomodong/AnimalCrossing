{
 "cells": [
  {
   "cell_type": "code",
   "execution_count": 131,
   "metadata": {},
   "outputs": [],
   "source": [
    "import pandas as pd\n",
    "from bs4 import BeautifulSoup\n",
    "import requests\n",
    "from urllib import parse\n",
    "import re\n",
    "import requests"
   ]
  },
  {
   "cell_type": "code",
   "execution_count": 181,
   "metadata": {},
   "outputs": [],
   "source": [
    "URL = \"https://namu.wiki/w/%EB%8F%99%EB%AC%BC%EC%9D%98%20%EC%88%B2%20%EC%8B%9C%EB%A6%AC%EC%A6%88/%EC%9D%BC%EB%B0%98%20%EC%A3%BC%EB%AF%BC\"\n",
    "def get_html(url):\n",
    "    r = requests.get(url)\n",
    "    return r.text\n",
    "html = get_html(URL)\n",
    "soup=BeautifulSoup(html,\"html.parser\")"
   ]
  },
  {
   "cell_type": "code",
   "execution_count": 182,
   "metadata": {},
   "outputs": [
    {
     "name": "stdout",
     "output_type": "stream",
     "text": [
      "53\n"
     ]
    }
   ],
   "source": [
    "t = soup.find_all(\"table\")\n",
    "print(len(t))"
   ]
  },
  {
   "cell_type": "code",
   "execution_count": 183,
   "metadata": {},
   "outputs": [],
   "source": [
    "# print(t[11]) # 개 테이블 시작"
   ]
  },
  {
   "cell_type": "code",
   "execution_count": 184,
   "metadata": {},
   "outputs": [
    {
     "name": "stdout",
     "output_type": "stream",
     "text": [
      "[<strong>이미지</strong>, <strong><span class=\"wiki-color\" style=\"color:#00af04\">이름</span></strong>, <strong><span class=\"wiki-color\" style=\"color:#00af04\">특징</span></strong>, <strong><span class=\"wiki-color\" style=\"color:#00af04\">등장</span></strong>]\n"
     ]
    }
   ],
   "source": [
    "col = t[11].tr # 실제 곤충 데이터가 있는 테이블 설정\n",
    "cols = col.select('strong')\n",
    "print(cols)"
   ]
  },
  {
   "cell_type": "code",
   "execution_count": 185,
   "metadata": {},
   "outputs": [
    {
     "name": "stdout",
     "output_type": "stream",
     "text": [
      "Empty DataFrame\n",
      "Columns: [이름, 영어이름, 성별, 생일, 성격]\n",
      "Index: []\n"
     ]
    }
   ],
   "source": [
    "columns = ['이름', '영어이름', '성별', '생일', '성격'] # 나중에 종류 추가하기\n",
    "df = pd.DataFrame(columns = columns)\n",
    "print(df) # 칼럼만 있는 데이터 생성"
   ]
  },
  {
   "cell_type": "code",
   "execution_count": 186,
   "metadata": {},
   "outputs": [],
   "source": [
    "# content = t[11] # 개 목록"
   ]
  },
  {
   "cell_type": "code",
   "execution_count": 187,
   "metadata": {},
   "outputs": [],
   "source": [
    "animallist = []"
   ]
  },
  {
   "cell_type": "code",
   "execution_count": 188,
   "metadata": {},
   "outputs": [],
   "source": [
    "# 사슴 25 26 빼고\n",
    "for num in range(11, 25):\n",
    "#     print(num)\n",
    "    temp = t[num].select('td')\n",
    "    temp = temp[19:]\n",
    "    for te in temp:\n",
    "        animallist.append(te.text)"
   ]
  },
  {
   "cell_type": "code",
   "execution_count": 189,
   "metadata": {},
   "outputs": [
    {
     "name": "stdout",
     "output_type": "stream",
     "text": [
      "      이름      영어이름 성별       생일   성격\n",
      "217  에포나     Epona  ♀  11월 21일  아이돌\n",
      "218   문복  Octavian  ♂  09월 20일  무뚝뚝\n",
      "219   탁호    Zucker  ♂  03월 08일   먹보\n",
      "220  문리나    Marina  ♀  06월 26일  친절함\n",
      "221  멍무리   Inkwell  ♂  06월 02일  운동광\n",
      "222\n"
     ]
    }
   ],
   "source": [
    "# df에 미리 추가하기\n",
    "for a in range(222): # 개 종류 20마리\n",
    "#     print(animallist[a*16+1])\n",
    "#     print([animallist[a*16 + 1], animallist[a*16 +4], animallist[a*16 +5], animallist[a*16 +6]]) # 예쁘게 한 줄로 뽑아내기 a*16:a*16+16\n",
    "    df.loc[a] = animallist[a*16 + 1], animallist[a*16 +3], animallist[a*16 +4], animallist[a*16 +5], animallist[a*16 +6]\n",
    "print(df.tail())\n",
    "print(len(df))"
   ]
  },
  {
   "cell_type": "code",
   "execution_count": 190,
   "metadata": {},
   "outputs": [],
   "source": [
    "deer = []\n",
    "# 제외한것들 추가 25 26 34 43 사슴 사슴뒤에 원숭이 햄스터\n",
    "# 25 사슴\n",
    "ex1 = t[25].select('td')\n",
    "ex1 = ex1[14:]\n",
    "for ex11 in ex1:\n",
    "    deer.append(ex11.text)"
   ]
  },
  {
   "cell_type": "code",
   "execution_count": 191,
   "metadata": {},
   "outputs": [
    {
     "name": "stdout",
     "output_type": "stream",
     "text": [
      "        이름      영어이름 성별       생일       성격\n",
      "203     꺼벙        Ed  ♂  09월 16일  운동광/느끼함\n",
      "204   슈베르트    Roscoe  ♂  06월 16일      무뚝뚝\n",
      "205    안소니    Colton  ♂  05월 22일      느끼함\n",
      "206    유니오    Julian  ♂  03월 15일      느끼함\n",
      "207    마철이     Clyde  ♂  05월 01일       먹보\n",
      "208    마사마      Papi  ♂  01월 10일       먹보\n",
      "209    사반나  Savannah  ♀  01월 25일      친절함\n",
      "210    카로틴    Winnie  ♀  01월 31일      아이돌\n",
      "211  아이소토프      Cleo  ♀  02월 09일      성숙함\n",
      "212     말자   Peaches  ♀  11월 28일      친절함\n",
      "213   실부플레  Annalise  ♀  12월 02일      성숙함\n",
      "214   센트엘로  Victoria  ♀  07월 11일      아이돌\n",
      "215    리아나   Reneigh  ♀  06월 04일     단순활발\n",
      "216     7호     Filly  ♀  07월 11일      친절함\n",
      "217    에포나     Epona  ♀  11월 21일      아이돌\n",
      "218     문복  Octavian  ♂  09월 20일      무뚝뚝\n",
      "219     탁호    Zucker  ♂  03월 08일       먹보\n",
      "220    문리나    Marina  ♀  06월 26일      친절함\n",
      "221    멍무리   Inkwell  ♂  06월 02일      운동광\n",
      "222     록키       Bam  ♂  11월 07일      운동광\n",
      "223     넬슨      Zell  ♂  06월 07일      느끼함\n",
      "224    브루스     Bruce  ♂  05월 26일      무뚝뚝\n",
      "225     피터      Beau  ♂  04월 05일       먹보\n",
      "226     자끄      Erik  ♂  07월 27일       먹보\n",
      "227     톰슨     Lopez  ♂  08월 20일      느끼함\n",
      "228     솔미     Fauna  ♀  03월 26일      친절함\n",
      "229    제시카   Fuchsia  ♀  09월 19일     단순활발\n",
      "230    나탈리     Diana  ♀  01월 04일      성숙함\n",
      "231    나디아   Deirdre  ♀  05월 04일     단순활발\n",
      "232     첼시   Chelsea  ♀  01월 18일      친절함\n",
      "233\n"
     ]
    }
   ],
   "source": [
    "for aa in range(11): # 사슴 종류\n",
    "#     print(deer[aa*11+1])\n",
    "#     print([animallist[a*11 + 1], animallist[a*11 +4], animallist[a*11 +5], animallist[a*11 +6]]) # 예쁘게 한 줄로 뽑아내기 a*16:a*16+16\n",
    "    df.loc[aa + 222] = (deer[aa*11 + 1], deer[aa*11+3], deer[aa*11 +4], deer[aa*11 +5], deer[aa*11 +6])\n",
    "print(df.tail(30))\n",
    "print(len(df))"
   ]
  },
  {
   "cell_type": "code",
   "execution_count": 192,
   "metadata": {},
   "outputs": [
    {
     "name": "stdout",
     "output_type": "stream",
     "text": [
      "9.0\n"
     ]
    }
   ],
   "source": [
    "# 26\n",
    "lions = []\n",
    "ex2 = t[26].select('td')\n",
    "ex2 = ex2[18:]\n",
    "for ex22 in ex2:\n",
    "    lions.append(ex22.text)\n",
    "print(len(lions)/15)"
   ]
  },
  {
   "cell_type": "code",
   "execution_count": 193,
   "metadata": {},
   "outputs": [
    {
     "name": "stdout",
     "output_type": "stream",
     "text": [
      "       이름     영어이름       성별       생일    성격\n",
      "231   나디아  Deirdre        ♀  05월 04일  단순활발\n",
      "232    첼시  Chelsea        ♀  01월 18일   친절함\n",
      "233    렉스      Rex  07월 24일       먹보     O\n",
      "234    티처  Leopold  08월 14일      느끼함     O\n",
      "235    선글      Bud  08월 18일      운동광     X\n",
      "236     킹    Elvis  07월 23일      무뚝뚝     X\n",
      "237     릭     Mott  07월 10일      운동광     X\n",
      "238    아더     Rory  08월 07일      운동광     X\n",
      "239  라이오넬   Lionel  07월 29일      느끼함     X\n",
      "240  (없음)     Aziz  02월 26일      운동광     O\n",
      "241  (없음)     (없음)  10월 16일      무뚝뚝     X\n",
      "242\n"
     ]
    }
   ],
   "source": [
    "# 사자 9마리 추가\n",
    "for aa in range(9):\n",
    "    df.loc[aa + 233] = (lions[aa*15 + 1], lions[aa*15+3], lions[aa*15 +4], lions[aa*15 +5], lions[aa*15 +6])\n",
    "print(df.tail(11))\n",
    "print(len(df))"
   ]
  },
  {
   "cell_type": "code",
   "execution_count": 194,
   "metadata": {},
   "outputs": [
    {
     "name": "stdout",
     "output_type": "stream",
     "text": [
      "242\n"
     ]
    }
   ],
   "source": [
    "print(len(df))"
   ]
  },
  {
   "cell_type": "code",
   "execution_count": 195,
   "metadata": {},
   "outputs": [
    {
     "name": "stdout",
     "output_type": "stream",
     "text": [
      "111.0\n",
      "       이름      영어이름 성별       생일   성격\n",
      "342    주디    Pompom  ♀  02월 11일  아이돌\n",
      "343     앤    Maelle  ♀  04월 08일  성숙함\n",
      "344   마리모     Deena  ♀  06월 27일  친절함\n",
      "345   스미모   Mallary  ♀  11월 17일  성숙함\n",
      "346   다랑어  Freckles  ♀  02월 19일  아이돌\n",
      "347   미란다   Miranda  ♀  04월 23일  성숙함\n",
      "348    케첩   Ketchup  ♀  07월 27일  아이돌\n",
      "349   마릴린    Gloria  ♀  08월 12일  성숙함\n",
      "350   귀오미     Molly  ♀  03월 07일  친절함\n",
      "351  (없음)      (없음)  ♂  04월 11일  운동광\n",
      "352  (없음)      (없음)  ♂  01월 01일  운동광\n",
      "353\n"
     ]
    }
   ],
   "source": [
    "animallist2 = []\n",
    "for num in range(27, 34):\n",
    "#     print(num)\n",
    "    temp = t[num].select('td')\n",
    "    temp = temp[19:]\n",
    "    for te in temp:\n",
    "        animallist2.append(te.text)\n",
    "print(len(animallist2)/16)\n",
    "for aa in range(111):\n",
    "    df.loc[aa + 242] = (animallist2[aa*16 + 1], animallist2[aa*16+3], animallist2[aa*16 +4], animallist2[aa*16 +5], animallist2[aa*16 +6])\n",
    "print(df.tail(11))\n",
    "print(len(df))"
   ]
  },
  {
   "cell_type": "code",
   "execution_count": 196,
   "metadata": {},
   "outputs": [
    {
     "name": "stdout",
     "output_type": "stream",
     "text": [
      "       이름   영어이름 성별       생일    성격\n",
      "352  (없음)   (없음)  ♂  01월 01일   운동광\n",
      "353    시몬  Simon  ♂  01월 19일    먹보\n",
      "354    몽티  Monty  ♂  12월 07일   무뚝뚝\n",
      "355    원승   Flip  ♂  11월 21일   운동광\n",
      "356    델리   Deli  ♂  05월 24일    먹보\n",
      "357    키키   Nana  ♀  08월 23일   친절함\n",
      "358    몽자  Elise  ♀  03월 21일   성숙함\n",
      "359  에이프릴  Tammi  ♀  04월 02일   아이돌\n",
      "360    젤리  Shari  ♀  04월 10일  단순활발\n",
      "361   몽돌이  Champ  ♂  06월 04일   운동광\n"
     ]
    }
   ],
   "source": [
    "# 34 원숭이\n",
    "monkey = []\n",
    "ex4 = t[34].select('td')\n",
    "ex4 = ex4[16:]\n",
    "for ex44 in ex4:\n",
    "#     print(ex44.text)\n",
    "    monkey.append(ex44.text)\n",
    "# print(len(monkey)/13)\n",
    "for aa in range(9):\n",
    "    df.loc[aa + 353] = (monkey[aa*13 + 1], monkey[aa*13+3], monkey[aa*13 +4], monkey[aa*13 +5], monkey[aa*13 +6])\n",
    "print(df.tail(10))"
   ]
  },
  {
   "cell_type": "code",
   "execution_count": 197,
   "metadata": {},
   "outputs": [
    {
     "name": "stdout",
     "output_type": "stream",
     "text": [
      "       이름    영어이름 성별       생일        성격\n",
      "366   실비아  Sylvia  ♀  05월 03일  성숙함/단순활발\n",
      "367   마리아  Marcie  ♀  05월 31일       친절함\n",
      "368  (없음)  Valise  ♀  12월 03일       성숙함\n",
      "369  (없음)   Marcy  ♀  05월 31일       아이돌\n",
      "370  (없음)    (없음)  ♀  02월 14일       친절함\n",
      "371\n"
     ]
    }
   ],
   "source": [
    "kangaroo = [] # 35-43\n",
    "k = t[35].select('td')\n",
    "for te in k:\n",
    "        kangaroo.append(te.text)\n",
    "kangaroo = kangaroo[19:]\n",
    "for aa in range(11):\n",
    "    df.loc[aa + 360] = (kangaroo[aa*16 + 1], kangaroo[aa*16+3], kangaroo[aa*16 +4], kangaroo[aa*16 +5], kangaroo[aa*16 +6])\n",
    "print(df.tail())\n",
    "print(len(df))"
   ]
  },
  {
   "cell_type": "code",
   "execution_count": 198,
   "metadata": {},
   "outputs": [
    {
     "name": "stdout",
     "output_type": "stream",
     "text": [
      "['휴지', 'ヒュージ', 'Dizzy', '♂', '07월 14일', '먹보', 'O', 'O', 'O', 'O', 'O', 'O', 'O', '\\u3000', 'O', '3호', '3ごう', 'Big Top', '♂', '10월 03일', '먹보', 'X', 'X', 'O', 'O', 'O', 'O', 'O', 'O', 'O', '엑스엘리', 'エックスエル', 'Axel', '♂', '03월 23일', '운동광', 'O', 'O', 'O', 'X', 'O', 'O', 'O', '\\u3000', 'O', '파올로', 'パオロ', 'Paolo', '♂', '05월 05일', '먹보', 'O', 'O', 'O', 'X', 'X', '◎', 'X', 'O', 'O', '맘모', 'はじめ', 'Tucker', '♂', '09월 07일', '먹보', 'X', 'X', 'X', 'X', 'X', 'O', 'O', 'O', 'O', '펑크스', 'パンクス', 'Cyd', '♂', '06월 09일', '무뚝뚝', 'X', 'X', 'X', 'X', 'X', 'X', 'X', 'O', 'O', '오팔', 'オパール', 'Opal', '♀', '01월 20일', '성숙함', 'O', 'O', 'O', 'O', 'O', 'O', 'O', 'O', 'O', '엘레핀', 'エレフィン', 'Eloise', '♀', '12월 08일', '성숙함', 'O', 'O', 'O', 'O', 'O', 'O', 'O', 'O', 'O', '샐리', 'サリー', 'Margie', '♀', '01월 28일', '친절함', 'X', 'X', 'O', 'O', 'O', 'O', 'O', 'O', 'O', '에끌레르', 'エクレア', 'Ellie', '♀', '05월 12일', '친절함', 'O', 'O', 'O', 'X', 'X', '◎', 'X', '\\u3000', 'O', '티나', 'ティーナ', 'Tia', '♀', '11월 18일', '친절함', 'X', 'X', 'X', 'X', 'X', 'O', 'O', 'O', 'O', '(없음)', 'ビンディ', 'Elina', '♀', '07월 01일', '성숙함', 'X', '☆', '☆', 'X', 'X', 'X', 'X', '\\u3000', '', '피카', 'フィーカ', 'Chai', '♀', '03월 06일', '아이돌', 'X', 'X', 'X', 'X', 'X', '◎', 'X', 'O', '']\n",
      "       이름    영어이름 성별       생일   성격\n",
      "373   파올로   Paolo  ♂  05월 05일   먹보\n",
      "374    맘모  Tucker  ♂  09월 07일   먹보\n",
      "375   펑크스     Cyd  ♂  06월 09일  무뚝뚝\n",
      "376    오팔    Opal  ♀  01월 20일  성숙함\n",
      "377   엘레핀  Eloise  ♀  12월 08일  성숙함\n",
      "378    샐리  Margie  ♀  01월 28일  친절함\n",
      "379  에끌레르   Ellie  ♀  05월 12일  친절함\n",
      "380    티나     Tia  ♀  11월 18일  친절함\n",
      "381  (없음)   Elina  ♀  07월 01일  성숙함\n",
      "382    피카    Chai  ♀  03월 06일  아이돌\n",
      "383\n"
     ]
    }
   ],
   "source": [
    "# 코끼리\n",
    "# print(t[36])\n",
    "elephant = []\n",
    "e = t[36].select('td')\n",
    "for el in e:\n",
    "    elephant.append(el.text)\n",
    "print(elephant[18:])\n",
    "elephant = elephant[18:]\n",
    "# print(len(elephant)/15)\n",
    "for aa in range(13):\n",
    "    df.loc[aa + 370] = (elephant[aa*15], elephant[aa*15+2], elephant[aa*15 +3], elephant[aa*15 +4], elephant[aa*15 +5])\n",
    "print(df.tail(10))\n",
    "print(len(df))"
   ]
  },
  {
   "cell_type": "code",
   "execution_count": 199,
   "metadata": {
    "scrolled": false
   },
   "outputs": [
    {
     "name": "stdout",
     "output_type": "stream",
     "text": [
      "       이름     영어이름 성별       생일       성격\n",
      "404    케인     Phil  ♂  11월 27일      느끼함\n",
      "405    택주  Queenie  ♀  11월 13일      성숙함\n",
      "406  빅토리아   Gladys  ♀  01월 15일      친절함\n",
      "407    샌디    Sandy  ♀  10월 21일      친절함\n",
      "408   줄리아    Julia  ♀  07월 31일  아이돌/성숙함\n",
      "409    휘니   Phoebe  ♀  04월 22일     단순활발\n",
      "410    신옥  Blanche  ♀  12월 21일      성숙함\n",
      "411   플라라    Flora  ♀  02월 09일      아이돌\n",
      "412  (없음)     (없음)  ♂  06월 05일       먹보\n",
      "413  (없음)      Rio  ♀  10월 11일      아이돌\n",
      "414\n"
     ]
    }
   ],
   "source": [
    "# 코뿔소 코알라 타조\n",
    "rhino = []\n",
    "for num in range(38, 44, 2):\n",
    "    temp = []\n",
    "    r = t[num].select('td')\n",
    "    for re in range(18, len(r)):\n",
    "        temp.append(r[re].text)\n",
    "    rhino += temp\n",
    "# print(rhino)\n",
    "\n",
    "# print(len(rhino)/15)\n",
    "for aa in range(32):\n",
    "    df.loc[aa + 382] = (rhino[aa*15], rhino[aa*15+2], rhino[aa*15 +3], rhino[aa*15 +4], rhino[aa*15 +5])\n",
    "print(df.tail(10))\n",
    "\n",
    "print(len(df))"
   ]
  },
  {
   "cell_type": "code",
   "execution_count": 200,
   "metadata": {},
   "outputs": [
    {
     "name": "stdout",
     "output_type": "stream",
     "text": [
      "21.0\n",
      "       이름      영어이름 성별       생일    성격\n",
      "474   패티카      Gabi  ♀  12월 16일   아이돌\n",
      "475    로타     Pippy  ♀  06월 14일   아이돌\n",
      "476  프랑소와  Francine  ♀  01월 22일   성숙함\n",
      "477  크리스틴   Chrissy  ♀  08월 28일   아이돌\n",
      "478   바슬레   Tiffany  ♀  01월 09일   성숙함\n",
      "479    초코    Carmen  ♀  01월 06일   아이돌\n",
      "480    루나      Ruby  ♀  12월 25일   아이돌\n",
      "481    미랑      Mira  ♀  07월 06일  단순활발\n",
      "482    미미    Bonbon  ♀  03월 03일   아이돌\n",
      "483    토비      Toby  ♂  07월 10일   느끼함\n",
      "435\n"
     ]
    }
   ],
   "source": [
    "# 토끼\n",
    "rabbit = []\n",
    "ra = t[44].select('td')\n",
    "ra = ra[19:]\n",
    "\n",
    "for r in ra:\n",
    "    rabbit.append(r.text)\n",
    "# print(rabbit)\n",
    "print(len(rabbit)/16)\n",
    "for aa in range(21):\n",
    "    df.loc[aa + 463] = (rabbit[aa*16 + 1], rabbit[aa*16+3], rabbit[aa*16 +4], rabbit[aa*16 +5], rabbit[aa*16 +6])\n",
    "print(df.tail(10))\n",
    "print(len(df))"
   ]
  },
  {
   "cell_type": "code",
   "execution_count": 201,
   "metadata": {},
   "outputs": [
    {
     "name": "stdout",
     "output_type": "stream",
     "text": [
      "       이름     영어이름 성별       생일   성격\n",
      "498  곤잘레스    Rocco  ♂  08월 18일  무뚝뚝\n",
      "499  가브리엘     Biff  ♂  03월 29일  운동광\n",
      "500   올리버    Harry  ♂  01월 07일  무뚝뚝\n",
      "501   데이빗  Hippeux  ♂  10월 15일  느끼함\n",
      "502    차코  Bubbles  ♀  09월 18일  아이돌\n",
      "503    베티   Bertha  ♀  04월 25일  친절함\n",
      "504    비티    Bitty  ♀  10월 06일  성숙함\n",
      "505  (없음)    Rollo  ♂  06월 22일   먹보\n",
      "506  (없음)     Lulu  ♀  01월 09일  아이돌\n",
      "507  (없음)    Clara  ♀  07월 08일  친절함\n"
     ]
    }
   ],
   "source": [
    "# 45 47 40 펭귄 하마\n",
    "hem = []\n",
    "for num in range(45, 48, 2):\n",
    "    temp2 = []\n",
    "    r = t[num].select('td')\n",
    "    for re in range(18, len(r)):\n",
    "        temp2.append(r[re].text)\n",
    "    hem += temp2\n",
    "for aa in range(25):\n",
    "    df.loc[aa + 483] = (hem[aa*15], hem[aa*15+2], hem[aa*15 +3], hem[aa*15 +4], hem[aa*15 +5])\n",
    "print(df.tail(10))\n",
    "\n"
   ]
  },
  {
   "cell_type": "code",
   "execution_count": 216,
   "metadata": {},
   "outputs": [
    {
     "name": "stdout",
     "output_type": "stream",
     "text": [
      "9.0\n",
      "       이름      영어이름 성별       생일   성격\n",
      "506  (없음)      Lulu  ♀  01월 09일  아이돌\n",
      "507   햄스틴    Hamlet  ♂  05월 30일  운동광\n",
      "508   글라햄    Graham  ♂  06월 20일  느끼함\n",
      "509    지미    Rodney  ♂  11월 10일  느끼함\n",
      "510    햄둥      Clay  ♂  10월 19일   먹보\n",
      "511    햄쥐  Hamphrey  ♂  02월 25일  무뚝뚝\n",
      "512    애플     Apple  ♀  09월 24일  아이돌\n",
      "513   뽀야미    Flurry  ♀  01월 30일  친절함\n",
      "514    샨티    Soleil  ♀  08월 09일  성숙함\n",
      "515   노리보    Holden  ♂  06월 11일  운동광\n",
      "467\n"
     ]
    }
   ],
   "source": [
    "# 햄스터\n",
    "penguin = []\n",
    "pen = t[49].select('td')\n",
    "pen = pen[13:]\n",
    "# print(pen)\n",
    "for r in pen:\n",
    "    penguin.append(r.text)\n",
    "print(len(penguin)/10)\n",
    "for aa in range(9):\n",
    "    df.loc[aa + 507] = (penguin[aa*10],penguin[aa*10+2], penguin[aa*10 +3], penguin[aa*10 +4], penguin[aa*10 +5])\n",
    "print(df.tail(10))\n",
    "print(len(df))"
   ]
  },
  {
   "cell_type": "code",
   "execution_count": 223,
   "metadata": {},
   "outputs": [
    {
     "name": "stdout",
     "output_type": "stream",
     "text": [
      "7.0\n"
     ]
    },
    {
     "data": {
      "text/html": [
       "<div>\n",
       "<style scoped>\n",
       "    .dataframe tbody tr th:only-of-type {\n",
       "        vertical-align: middle;\n",
       "    }\n",
       "\n",
       "    .dataframe tbody tr th {\n",
       "        vertical-align: top;\n",
       "    }\n",
       "\n",
       "    .dataframe thead th {\n",
       "        text-align: right;\n",
       "    }\n",
       "</style>\n",
       "<table border=\"1\" class=\"dataframe\">\n",
       "  <thead>\n",
       "    <tr style=\"text-align: right;\">\n",
       "      <th></th>\n",
       "      <th>이름</th>\n",
       "      <th>영어이름</th>\n",
       "      <th>성별</th>\n",
       "      <th>생일</th>\n",
       "      <th>성격</th>\n",
       "    </tr>\n",
       "  </thead>\n",
       "  <tbody>\n",
       "    <tr>\n",
       "      <th>517</th>\n",
       "      <td>티볼트</td>\n",
       "      <td>Tybalt</td>\n",
       "      <td>♂</td>\n",
       "      <td>08월 19일</td>\n",
       "      <td>운동광</td>\n",
       "    </tr>\n",
       "    <tr>\n",
       "      <th>518</th>\n",
       "      <td>범호</td>\n",
       "      <td>Leonardo</td>\n",
       "      <td>♂</td>\n",
       "      <td>05월 15일</td>\n",
       "      <td>운동광</td>\n",
       "    </tr>\n",
       "    <tr>\n",
       "      <th>519</th>\n",
       "      <td>루주</td>\n",
       "      <td>Bangle</td>\n",
       "      <td>♀</td>\n",
       "      <td>08월 27일</td>\n",
       "      <td>아이돌</td>\n",
       "    </tr>\n",
       "    <tr>\n",
       "      <th>520</th>\n",
       "      <td>신디</td>\n",
       "      <td>Claudia</td>\n",
       "      <td>♀</td>\n",
       "      <td>11월 22일</td>\n",
       "      <td>성숙함</td>\n",
       "    </tr>\n",
       "    <tr>\n",
       "      <th>521</th>\n",
       "      <td>백희</td>\n",
       "      <td>Bianca</td>\n",
       "      <td>♀</td>\n",
       "      <td>12월 13일</td>\n",
       "      <td>아이돌</td>\n",
       "    </tr>\n",
       "  </tbody>\n",
       "</table>\n",
       "</div>"
      ],
      "text/plain": [
       "      이름      영어이름 성별       생일   성격\n",
       "517  티볼트    Tybalt  ♂  08월 19일  운동광\n",
       "518   범호  Leonardo  ♂  05월 15일  운동광\n",
       "519   루주    Bangle  ♀  08월 27일  아이돌\n",
       "520   신디   Claudia  ♀  11월 22일  성숙함\n",
       "521   백희    Bianca  ♀  12월 13일  아이돌"
      ]
     },
     "execution_count": 223,
     "metadata": {},
     "output_type": "execute_result"
    }
   ],
   "source": [
    "# 호랑이\n",
    "tiger = []\n",
    "tig = t[51].select('td')\n",
    "tig = tig[18:]\n",
    "# print(tig)\n",
    "for r in tig:\n",
    "    tiger.append(r.text)\n",
    "print(len(tig)/15)\n",
    "for a in range(7): # 개 종류 20마리\n",
    "    df.loc[a + 515] = tiger[a*15], tiger[a*15+2],  tiger[a*15 +3], tiger[a*15 +4], tiger[a*15 +5]\n",
    "df.tail()"
   ]
  },
  {
   "cell_type": "code",
   "execution_count": 224,
   "metadata": {},
   "outputs": [],
   "source": [
    "df.to_excel('animals2.xlsx')"
   ]
  },
  {
   "cell_type": "code",
   "execution_count": null,
   "metadata": {},
   "outputs": [],
   "source": []
  }
 ],
 "metadata": {
  "kernelspec": {
   "display_name": "Python 3",
   "language": "python",
   "name": "python3"
  },
  "language_info": {
   "codemirror_mode": {
    "name": "ipython",
    "version": 3
   },
   "file_extension": ".py",
   "mimetype": "text/x-python",
   "name": "python",
   "nbconvert_exporter": "python",
   "pygments_lexer": "ipython3",
   "version": "3.7.6"
  }
 },
 "nbformat": 4,
 "nbformat_minor": 4
}
