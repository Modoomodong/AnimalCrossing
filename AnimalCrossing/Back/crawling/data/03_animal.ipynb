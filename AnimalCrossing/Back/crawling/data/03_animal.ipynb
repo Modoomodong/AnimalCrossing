{
 "cells": [
  {
   "cell_type": "code",
   "execution_count": 1,
   "metadata": {},
   "outputs": [],
   "source": [
    "import pandas as pd\n",
    "from bs4 import BeautifulSoup\n",
    "import requests\n",
    "from urllib import parse\n",
    "import re\n",
    "import requests"
   ]
  },
  {
   "cell_type": "code",
   "execution_count": 2,
   "metadata": {},
   "outputs": [],
   "source": [
    "URL = \"https://namu.wiki/w/%EB%8F%99%EB%AC%BC%EC%9D%98%20%EC%88%B2%20%EC%8B%9C%EB%A6%AC%EC%A6%88/%EC%9D%BC%EB%B0%98%20%EC%A3%BC%EB%AF%BC\"\n",
    "def get_html(url):\n",
    "    r = requests.get(url)\n",
    "    return r.text\n",
    "html = get_html(URL)\n",
    "soup=BeautifulSoup(html,\"html.parser\")"
   ]
  },
  {
   "cell_type": "code",
   "execution_count": 3,
   "metadata": {},
   "outputs": [
    {
     "name": "stdout",
     "output_type": "stream",
     "text": [
      "45\n"
     ]
    }
   ],
   "source": [
    "t = soup.find_all(\"table\")\n",
    "print(len(t))"
   ]
  },
  {
   "cell_type": "code",
   "execution_count": 4,
   "metadata": {},
   "outputs": [],
   "source": [
    "# print(t[11]) # 개 테이블 시작"
   ]
  },
  {
   "cell_type": "code",
   "execution_count": 5,
   "metadata": {},
   "outputs": [
    {
     "name": "stdout",
     "output_type": "stream",
     "text": [
      "[<strong>이미지</strong>, <strong><span class=\"wiki-color\" style=\"color:#00af04\">이름</span></strong>, <strong><span class=\"wiki-color\" style=\"color:#00af04\">특징</span></strong>, <strong><span class=\"wiki-color\" style=\"color:#00af04\">등장</span></strong>]\n"
     ]
    }
   ],
   "source": [
    "col = t[11].tr # 실제 곤충 데이터가 있는 테이블 설정\n",
    "cols = col.select('strong')\n",
    "print(cols)"
   ]
  },
  {
   "cell_type": "code",
   "execution_count": 6,
   "metadata": {},
   "outputs": [
    {
     "name": "stdout",
     "output_type": "stream",
     "text": [
      "Empty DataFrame\n",
      "Columns: [이름, 영어이름, 성별, 생일, 성격]\n",
      "Index: []\n"
     ]
    }
   ],
   "source": [
    "columns = ['이름', '영어이름', '성별', '생일', '성격'] # 나중에 종류 추가하기\n",
    "df = pd.DataFrame(columns = columns)\n",
    "print(df) # 칼럼만 있는 데이터 생성"
   ]
  },
  {
   "cell_type": "code",
   "execution_count": 7,
   "metadata": {},
   "outputs": [],
   "source": [
    "# content = t[11] # 개 목록"
   ]
  },
  {
   "cell_type": "code",
   "execution_count": 8,
   "metadata": {},
   "outputs": [],
   "source": [
    "animallist = []"
   ]
  },
  {
   "cell_type": "code",
   "execution_count": 9,
   "metadata": {},
   "outputs": [],
   "source": [
    "# 사슴 25 26 빼고\n",
    "for num in range(11, 25):\n",
    "#     print(num)\n",
    "    temp = t[num].select('td')\n",
    "    temp = temp[19:]\n",
    "    for te in temp:\n",
    "        animallist.append(te.text)"
   ]
  },
  {
   "cell_type": "code",
   "execution_count": 10,
   "metadata": {},
   "outputs": [
    {
     "name": "stdout",
     "output_type": "stream",
     "text": [
      "      이름      영어이름 성별       생일   성격\n",
      "217  에포나     Epona  ♀  11월 21일  아이돌\n",
      "218   문복  Octavian  ♂  09월 20일  무뚝뚝\n",
      "219   탁호    Zucker  ♂  03월 08일   먹보\n",
      "220  문리나    Marina  ♀  06월 26일  친절함\n",
      "221  멍무리   Inkwell  ♂  06월 02일  운동광\n",
      "222\n"
     ]
    }
   ],
   "source": [
    "# df에 미리 추가하기\n",
    "for a in range(222): # 개 종류 20마리\n",
    "#     print(animallist[a*16+1])\n",
    "#     print([animallist[a*16 + 1], animallist[a*16 +4], animallist[a*16 +5], animallist[a*16 +6]]) # 예쁘게 한 줄로 뽑아내기 a*16:a*16+16\n",
    "    df.loc[a] = animallist[a*16 + 1], animallist[a*16 +3], animallist[a*16 +4], animallist[a*16 +5], animallist[a*16 +6]\n",
    "print(df.tail())\n",
    "print(len(df))"
   ]
  },
  {
   "cell_type": "code",
   "execution_count": 11,
   "metadata": {},
   "outputs": [],
   "source": [
    "deer = []\n",
    "# 제외한것들 추가 25 26 34 43 사슴 사슴뒤에 원숭이 햄스터\n",
    "# 25 사슴\n",
    "ex1 = t[25].select('td')\n",
    "ex1 = ex1[14:]\n",
    "for ex11 in ex1:\n",
    "    deer.append(ex11.text)"
   ]
  },
  {
   "cell_type": "code",
   "execution_count": 12,
   "metadata": {},
   "outputs": [
    {
     "name": "stdout",
     "output_type": "stream",
     "text": [
      "        이름      영어이름 성별       생일       성격\n",
      "203     꺼벙        Ed  ♂  09월 16일  운동광/느끼함\n",
      "204   슈베르트    Roscoe  ♂  06월 16일      무뚝뚝\n",
      "205    안소니    Colton  ♂  05월 22일      느끼함\n",
      "206    유니오    Julian  ♂  03월 15일      느끼함\n",
      "207    마철이     Clyde  ♂  05월 01일       먹보\n",
      "208    마사마      Papi  ♂  01월 10일       먹보\n",
      "209    사반나  Savannah  ♀  01월 25일      친절함\n",
      "210    카로틴    Winnie  ♀  01월 31일      아이돌\n",
      "211  아이소토프      Cleo  ♀  02월 09일      성숙함\n",
      "212     말자   Peaches  ♀  11월 28일      친절함\n",
      "213   실부플레  Annalise  ♀  12월 02일      성숙함\n",
      "214   센트엘로  Victoria  ♀  07월 11일      아이돌\n",
      "215    리아나   Reneigh  ♀  06월 04일     단순활발\n",
      "216     7호     Filly  ♀  07월 11일      친절함\n",
      "217    에포나     Epona  ♀  11월 21일      아이돌\n",
      "218     문복  Octavian  ♂  09월 20일      무뚝뚝\n",
      "219     탁호    Zucker  ♂  03월 08일       먹보\n",
      "220    문리나    Marina  ♀  06월 26일      친절함\n",
      "221    멍무리   Inkwell  ♂  06월 02일      운동광\n",
      "222     록키       Bam  ♂  11월 07일      운동광\n",
      "223     넬슨      Zell  ♂  06월 07일      느끼함\n",
      "224    브루스     Bruce  ♂  05월 26일      무뚝뚝\n",
      "225     피터      Beau  ♂  04월 05일       먹보\n",
      "226     자끄      Erik  ♂  07월 27일       먹보\n",
      "227     톰슨     Lopez  ♂  08월 20일      느끼함\n",
      "228     솔미     Fauna  ♀  03월 26일      친절함\n",
      "229    제시카   Fuchsia  ♀  09월 19일     단순활발\n",
      "230    나탈리     Diana  ♀  01월 04일      성숙함\n",
      "231    나디아   Deirdre  ♀  05월 04일     단순활발\n",
      "232     첼시   Chelsea  ♀  01월 18일      친절함\n",
      "233\n"
     ]
    }
   ],
   "source": [
    "for aa in range(11): # 사슴 종류\n",
    "#     print(deer[aa*11+1])\n",
    "#     print([animallist[a*11 + 1], animallist[a*11 +4], animallist[a*11 +5], animallist[a*11 +6]]) # 예쁘게 한 줄로 뽑아내기 a*16:a*16+16\n",
    "    df.loc[aa + 222] = (deer[aa*11 + 1], deer[aa*11+3], deer[aa*11 +4], deer[aa*11 +5], deer[aa*11 +6])\n",
    "print(df.tail(30))\n",
    "print(len(df))"
   ]
  },
  {
   "cell_type": "code",
   "execution_count": 13,
   "metadata": {},
   "outputs": [
    {
     "name": "stdout",
     "output_type": "stream",
     "text": [
      "9.0\n"
     ]
    }
   ],
   "source": [
    "# 26\n",
    "lions = []\n",
    "ex2 = t[26].select('td')\n",
    "ex2 = ex2[18:]\n",
    "for ex22 in ex2:\n",
    "    lions.append(ex22.text)\n",
    "print(len(lions)/15)"
   ]
  },
  {
   "cell_type": "code",
   "execution_count": 319,
   "metadata": {},
   "outputs": [
    {
     "name": "stdout",
     "output_type": "stream",
     "text": [
      "       이름       성별       생일   성격\n",
      "220   문리나        ♀  06월 26일  친절함\n",
      "221   멍무리        ♂  06월 02일  운동광\n",
      "233    렉스  07월 24일       먹보    O\n",
      "234    티처  08월 14일      느끼함    O\n",
      "235    선글  08월 18일      운동광    X\n",
      "236     킹  07월 23일      무뚝뚝    X\n",
      "237     릭  07월 10일      운동광    X\n",
      "238    아더  08월 07일      운동광    X\n",
      "239  라이오넬  07월 29일      느끼함    X\n",
      "240  (없음)  02월 26일      운동광    O\n",
      "241  (없음)  10월 16일      무뚝뚝    X\n",
      "231\n"
     ]
    }
   ],
   "source": [
    "# 사자 9마리 추가\n",
    "for aa in range(9):\n",
    "    df.loc[aa + 233] = (lions[aa*15 + 1], lions[aa*15 +4], lions[aa*15 +5], lions[aa*15 +6])\n",
    "print(df.tail(11))\n",
    "print(len(df))"
   ]
  },
  {
   "cell_type": "code",
   "execution_count": 14,
   "metadata": {},
   "outputs": [
    {
     "name": "stdout",
     "output_type": "stream",
     "text": [
      "111.0\n",
      "       이름      영어이름 성별       생일   성격\n",
      "342    주디    Pompom  ♀  02월 11일  아이돌\n",
      "343     앤    Maelle  ♀  04월 08일  성숙함\n",
      "344   마리모     Deena  ♀  06월 27일  친절함\n",
      "345   스미모   Mallary  ♀  11월 17일  성숙함\n",
      "346   다랑어  Freckles  ♀  02월 19일  아이돌\n",
      "347   미란다   Miranda  ♀  04월 23일  성숙함\n",
      "348    케첩   Ketchup  ♀  07월 27일  아이돌\n",
      "349   마릴린    Gloria  ♀  08월 12일  성숙함\n",
      "350   귀오미     Molly  ♀  03월 07일  친절함\n",
      "351  (없음)      (없음)  ♂  04월 11일  운동광\n",
      "352  (없음)      (없음)  ♂  01월 01일  운동광\n",
      "344\n"
     ]
    }
   ],
   "source": [
    "animallist2 = []\n",
    "for num in range(27, 34):\n",
    "#     print(num)\n",
    "    temp = t[num].select('td')\n",
    "    temp = temp[19:]\n",
    "    for te in temp:\n",
    "        animallist2.append(te.text)\n",
    "print(len(animallist2)/16)\n",
    "for aa in range(111):\n",
    "    df.loc[aa + 242] = (animallist2[aa*16 + 1], animallist2[aa*16+3], animallist2[aa*16 +4], animallist2[aa*16 +5], animallist2[aa*16 +6])\n",
    "print(df.tail(11))\n",
    "print(len(df))"
   ]
  },
  {
   "cell_type": "code",
   "execution_count": 15,
   "metadata": {},
   "outputs": [
    {
     "name": "stdout",
     "output_type": "stream",
     "text": [
      "       이름   영어이름 성별       생일    성격\n",
      "352  (없음)   (없음)  ♂  01월 01일   운동광\n",
      "353    시몬  Simon  ♂  01월 19일    먹보\n",
      "354    몽티  Monty  ♂  12월 07일   무뚝뚝\n",
      "355    원승   Flip  ♂  11월 21일   운동광\n",
      "356    델리   Deli  ♂  05월 24일    먹보\n",
      "357    키키   Nana  ♀  08월 23일   친절함\n",
      "358    몽자  Elise  ♀  03월 21일   성숙함\n",
      "359  에이프릴  Tammi  ♀  04월 02일   아이돌\n",
      "360    젤리  Shari  ♀  04월 10일  단순활발\n",
      "361   몽돌이  Champ  ♂  06월 04일   운동광\n",
      "353\n"
     ]
    }
   ],
   "source": [
    "# 34 원숭이\n",
    "monkey = []\n",
    "ex4 = t[34].select('td')\n",
    "ex4 = ex4[16:]\n",
    "for ex44 in ex4:\n",
    "#     print(ex44.text)\n",
    "    monkey.append(ex44.text)\n",
    "# print(len(monkey)/13)\n",
    "for aa in range(9):\n",
    "    df.loc[aa + 353] = (monkey[aa*13 + 1], monkey[aa*13+3], monkey[aa*13 +4], monkey[aa*13 +5], monkey[aa*13 +6])\n",
    "print(df.tail(10))\n",
    "print(len(df))"
   ]
  },
  {
   "cell_type": "code",
   "execution_count": 16,
   "metadata": {},
   "outputs": [
    {
     "name": "stdout",
     "output_type": "stream",
     "text": [
      "102.0\n"
     ]
    }
   ],
   "source": [
    "animallist3 = []\n",
    "for num in range(35, 43):\n",
    "    temp = t[num].select('td')\n",
    "    temp = temp[19:]\n",
    "    for te in temp:\n",
    "        animallist3.append(te.text)\n",
    "print(len(animallist3)/16)"
   ]
  },
  {
   "cell_type": "code",
   "execution_count": 17,
   "metadata": {},
   "outputs": [
    {
     "name": "stdout",
     "output_type": "stream",
     "text": [
      "102.0\n",
      "       이름      영어이름 성별       생일   성격\n",
      "452  곤잘레스   Grizzly  ♂  08월 18일  무뚝뚝\n",
      "453  가브리엘      Curt  ♂  03월 29일  운동광\n",
      "454   올리버       Ike  ♂  01월 07일  무뚝뚝\n",
      "455   데이빗     Klaus  ♂  10월 15일  느끼함\n",
      "456    차코    Beardo  ♀  09월 18일  아이돌\n",
      "457    베티     Pinky  ♀  04월 25일  친절함\n",
      "458    비티      Tutu  ♀  10월 06일  성숙함\n",
      "459  (없음)    Ursala  ♂  06월 22일   먹보\n",
      "460  (없음)     Paula  ♀  01월 09일  아이돌\n",
      "461  (없음)  Charlise  ♀  07월 08일  친절함\n",
      "453\n"
     ]
    }
   ],
   "source": [
    "print(len(animallist3)/16)\n",
    "for aa in range(102):\n",
    "    df.loc[aa + 360] = (animallist3[aa*16 + 1], animallist[aa*16+3], animallist3[aa*16 +4], animallist3[aa*16 +5], animallist3[aa*16 +6])\n",
    "print(df.tail(10))\n",
    "print(len(df))"
   ]
  },
  {
   "cell_type": "code",
   "execution_count": 18,
   "metadata": {},
   "outputs": [
    {
     "name": "stdout",
     "output_type": "stream",
     "text": [
      "9.0\n"
     ]
    }
   ],
   "source": [
    "# 43 햄스터\n",
    "hem = []\n",
    "ex3 = t[43].select('td')\n",
    "ex3 = ex3[14:]\n",
    "for ex33 in ex3:\n",
    "    hem.append(ex33.text)\n",
    "#     print(ex33.text)\n",
    "print(len(hem)/11)"
   ]
  },
  {
   "cell_type": "code",
   "execution_count": 19,
   "metadata": {},
   "outputs": [
    {
     "name": "stdout",
     "output_type": "stream",
     "text": [
      "       이름      영어이름 성별       생일   성격\n",
      "461  (없음)  Charlise  ♀  07월 08일  친절함\n",
      "462   햄스틴    Hamlet  ♂  05월 30일  운동광\n",
      "463   글라햄    Graham  ♂  06월 20일  느끼함\n",
      "464    지미    Rodney  ♂  11월 10일  느끼함\n",
      "465    햄둥      Clay  ♂  10월 19일   먹보\n",
      "466    햄쥐  Hamphrey  ♂  02월 25일  무뚝뚝\n",
      "467    애플     Apple  ♀  09월 24일  아이돌\n",
      "468   뽀야미    Flurry  ♀  01월 30일  친절함\n",
      "469    샨티    Soleil  ♀  08월 09일  성숙함\n",
      "470   노리보    Holden  ♂  06월 11일  운동광\n",
      "462\n"
     ]
    }
   ],
   "source": [
    "for aa in range(9):\n",
    "    df.loc[aa + 462] = (hem[aa*11 + 1], hem[aa*11+3], hem[aa*11 +4], hem[aa*11 +5], hem[aa*11 +6])\n",
    "print(df.tail(10))\n",
    "print(len(df))"
   ]
  },
  {
   "cell_type": "code",
   "execution_count": 20,
   "metadata": {},
   "outputs": [
    {
     "name": "stdout",
     "output_type": "stream",
     "text": [
      "7.0\n",
      "['', '호랭이', 'チョモラン', 'Rolf', '♂', '08월 22일', '무뚝뚝', 'O', 'O', 'O', 'O', 'O', 'O', 'O', '\\u3000', 'O', '', '고메스', 'ゴメス', 'Rowan', '♂', '08월 26일', '무뚝뚝/운동광', 'X', '☆', '☆', 'O', 'O', 'O', 'O', 'O', 'O', '', '티볼트', 'ハリマオ', 'Tybalt', '♂', '08월 19일', '운동광', 'O', 'O', 'O', 'X', 'X', '◎', 'X', '', 'O', '', '범호', 'ヒョウタ', 'Leonardo', '♂', '05월 15일', '운동광', 'X', 'X', 'O', 'X', 'X', 'O', 'O', '', 'O', '', '루주', 'ルーズ', 'Bangle', '♀', '08월 27일', '아이돌', 'O', 'O', 'O', 'X', 'X', 'O', 'O', '', 'O', '', '신디', 'マリリン', 'Claudia', '♀', '11월 22일', '성숙함', 'X', 'X', 'X', 'X', 'X', 'O', 'O', 'O', 'O', '', '백희', 'コユキ', 'Bianca', '♀', '12월 13일', '아이돌', 'X', 'X', 'X', 'X', 'X', 'O', 'O', 'O', 'O']\n"
     ]
    }
   ],
   "source": [
    "# 호랑이\n",
    "tiger = []\n",
    "for num in range(44, 45):\n",
    "    temp = t[num].select('td')\n",
    "    temp = temp[19:]\n",
    "    for te in temp:\n",
    "        tiger.append(te.text)\n",
    "print(len(tiger)/16)\n",
    "print(tiger)"
   ]
  },
  {
   "cell_type": "code",
   "execution_count": 21,
   "metadata": {},
   "outputs": [],
   "source": [
    "# 호랑이 추가\n",
    "for a in range(7): # 개 종류 20마리\n",
    "#     print(animallist[a*16+1])\n",
    "#     print([animallist[a*16 + 1], animallist[a*16 +4], animallist[a*16 +5], animallist[a*16 +6]]) # 예쁘게 한 줄로 뽑아내기 a*16:a*16+16\n",
    "    df.loc[a + 470] = tiger[a*16 + 1], tiger[a*16+3],  tiger[a*16 +4], tiger[a*16 +5], tiger[a*16 +6]"
   ]
  },
  {
   "cell_type": "code",
   "execution_count": 22,
   "metadata": {},
   "outputs": [
    {
     "name": "stdout",
     "output_type": "stream",
     "text": [
      "      이름      영어이름 성별       생일       성격\n",
      "467   애플     Apple  ♀  09월 24일      아이돌\n",
      "468  뽀야미    Flurry  ♀  01월 30일      친절함\n",
      "469   샨티    Soleil  ♀  08월 09일      성숙함\n",
      "470  호랭이      Rolf  ♂  08월 22일      무뚝뚝\n",
      "471  고메스     Rowan  ♂  08월 26일  무뚝뚝/운동광\n",
      "472  티볼트    Tybalt  ♂  08월 19일      운동광\n",
      "473   범호  Leonardo  ♂  05월 15일      운동광\n",
      "474   루주    Bangle  ♀  08월 27일      아이돌\n",
      "475   신디   Claudia  ♀  11월 22일      성숙함\n",
      "476   백희    Bianca  ♀  12월 13일      아이돌\n"
     ]
    }
   ],
   "source": [
    "print(df.tail(10))"
   ]
  },
  {
   "cell_type": "code",
   "execution_count": 23,
   "metadata": {},
   "outputs": [],
   "source": [
    "df.to_excel('animals.xlsx')"
   ]
  },
  {
   "cell_type": "code",
   "execution_count": null,
   "metadata": {},
   "outputs": [],
   "source": []
  }
 ],
 "metadata": {
  "kernelspec": {
   "display_name": "Python 3",
   "language": "python",
   "name": "python3"
  },
  "language_info": {
   "codemirror_mode": {
    "name": "ipython",
    "version": 3
   },
   "file_extension": ".py",
   "mimetype": "text/x-python",
   "name": "python",
   "nbconvert_exporter": "python",
   "pygments_lexer": "ipython3",
   "version": "3.7.6"
  }
 },
 "nbformat": 4,
 "nbformat_minor": 4
}
