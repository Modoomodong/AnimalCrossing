{
 "cells": [
  {
   "cell_type": "code",
   "execution_count": 2,
   "metadata": {},
   "outputs": [],
   "source": [
    "import pandas as pd\n",
    "from bs4 import BeautifulSoup\n",
    "import requests\n",
    "from urllib import parse\n",
    "import re\n",
    "import requests"
   ]
  },
  {
   "cell_type": "code",
   "execution_count": 3,
   "metadata": {},
   "outputs": [],
   "source": [
    "URL = \"https://namu.wiki/w/%EB%8F%99%EB%AC%BC%EC%9D%98%20%EC%88%B2%20%EC%8B%9C%EB%A6%AC%EC%A6%88/%EC%9D%BC%EB%B0%98%20%EC%A3%BC%EB%AF%BC\"\n",
    "def get_html(url):\n",
    "    r = requests.get(url)\n",
    "    return r.text\n",
    "html = get_html(URL)\n",
    "soup=BeautifulSoup(html,\"html.parser\")"
   ]
  },
  {
   "cell_type": "code",
   "execution_count": 4,
   "metadata": {},
   "outputs": [
    {
     "name": "stdout",
     "output_type": "stream",
     "text": [
      "45\n"
     ]
    }
   ],
   "source": [
    "t = soup.find_all(\"table\")\n",
    "print(len(t))"
   ]
  },
  {
   "cell_type": "code",
   "execution_count": 9,
   "metadata": {},
   "outputs": [
    {
     "name": "stdout",
     "output_type": "stream",
     "text": [
      "<table class=\"wiki-table\" data-dark-style=\"background-color:#2D2F34;\" style=\"background-color:#FFFFFF; width:100%; border:2px solid #00af04;\"><tbody><tr style=\"background-color:#f1d42e;\"><td rowspan=\"2\" style=\"text-align:center;\"><div class=\"wiki-paragraph\"><span class=\"wiki-size size-down-2\"><span class=\"wiki-color\" style=\"color:#00af04\"><strong>이미지</strong></span></span></div></td><td colspan=\"3\" style=\"text-align:center;\"><div class=\"wiki-paragraph\"><strong><span class=\"wiki-color\" style=\"color:#00af04\">이름</span></strong></div></td><td colspan=\"3\" style=\"text-align:center;\"><div class=\"wiki-paragraph\"><strong><span class=\"wiki-color\" style=\"color:#00af04\">특징</span></strong></div></td><td colspan=\"9\" style=\"text-align:center;\"><div class=\"wiki-paragraph\"><strong><span class=\"wiki-color\" style=\"color:#00af04\">등장</span></strong></div></td></tr><tr style=\"background-color:#00af04;\"><td style=\"text-align:center;\"><div class=\"wiki-paragraph\"><span class=\"wiki-size size-down-2\"><span class=\"wiki-color\" style=\"color:#fff\"><strong>한국어</strong></span></span></div></td><td style=\"text-align:center;\"><div class=\"wiki-paragraph\"><span class=\"wiki-size size-down-2\"><span class=\"wiki-color\" style=\"color:#fff\"><strong>일어</strong></span></span></div></td><td style=\"text-align:center;\"><div class=\"wiki-paragraph\"><span class=\"wiki-size size-down-2\"><span class=\"wiki-color\" style=\"color:#fff\"><strong>영어</strong></span></span></div></td><td style=\"text-align:center;\"><div class=\"wiki-paragraph\"><span class=\"wiki-size size-down-2\"><span class=\"wiki-color\" style=\"color:#fff\"><strong>성별</strong></span></span></div></td><td style=\"text-align:center;\"><div class=\"wiki-paragraph\"><span class=\"wiki-size size-down-2\"><span class=\"wiki-color\" style=\"color:#fff\"><strong>생일</strong></span></span></div></td><td style=\"text-align:center;\"><div class=\"wiki-paragraph\"><span class=\"wiki-size size-down-2\"><span class=\"wiki-color\" style=\"color:#fff\"><strong>성격</strong></span></span></div></td><td style=\"text-align:center;\"><div class=\"wiki-paragraph\"><span class=\"wiki-size size-down-2\"><span class=\"wiki-color\" style=\"color:#fff\"><strong>동숲</strong></span></span></div></td><td style=\"text-align:center;\"><div class=\"wiki-paragraph\"><span class=\"wiki-size size-down-2\"><span class=\"wiki-color\" style=\"color:#fff\"><strong>동숲+</strong></span></span></div></td><td style=\"text-align:center;\"><div class=\"wiki-paragraph\"><span class=\"wiki-size size-down-2\"><span class=\"wiki-color\" style=\"color:#fff\"><strong>동숲<br/>e+</strong></span></span></div></td><td style=\"text-align:center;\"><div class=\"wiki-paragraph\"><span class=\"wiki-size size-down-2\"><span class=\"wiki-color\" style=\"color:#fff\"><strong>놀동숲</strong></span></span></div></td><td style=\"text-align:center;\"><div class=\"wiki-paragraph\"><span class=\"wiki-size size-down-2\"><span class=\"wiki-color\" style=\"color:#fff\"><strong>타동숲</strong></span></span></div></td><td style=\"text-align:center;\"><div class=\"wiki-paragraph\"><span class=\"wiki-size size-down-2\"><span class=\"wiki-color\" style=\"color:#fff\"><strong>튀동숲</strong></span></span></div></td><td style=\"text-align:center;\"><div class=\"wiki-paragraph\"><span class=\"wiki-size size-down-2\"><span class=\"wiki-color\" style=\"color:#fff\"><strong>해피홈</strong></span></span></div></td><td style=\"text-align:center;\"><div class=\"wiki-paragraph\"><span class=\"wiki-size size-down-2\"><span class=\"wiki-color\" style=\"color:#fff\"><strong>포켓<br/>캠프</strong></span></span></div></td><td style=\"text-align:center;\"><div class=\"wiki-paragraph\"><span class=\"wiki-size size-down-2\"><span class=\"wiki-color\" style=\"color:#fff\"><strong>모동숲</strong></span></span></div></td></tr><tr><td><div class=\"wiki-paragraph\"><a class=\"wiki-link-internal\" href=\"/w/%ED%8C%8C%EC%9D%BC:Butch_NLa.png\" rel=\"nofollow\" title=\"파일:Butch_NLa.png\"><span class=\"wiki-image-align-normal\" style=\"width:100px;\"><span class=\"wiki-image-wrapper\" style=\"width: 100%;\"><img alt=\"파일:Butch_NLa.png\" src=\"//ww.namu.la/s/c84cba9fd97b09df645c581403e15b47a38c00d3019b6894a30b888838f2a918ca086944f54cf253fb41c7ae3c9d1a84e183213a6b9441cf03624fd83e3836e570e00ea73a53f260edcc37aa90666fc6f57a40689d8327f1d61146dd0a6d4db8\" width=\"100%\"/></span></span></a></div></td><td><div class=\"wiki-paragraph\">존</div></td><td><div class=\"wiki-paragraph\">ジョン</div></td><td><div class=\"wiki-paragraph\">Butch</div></td><td><div class=\"wiki-paragraph\">♂</div></td><td><div class=\"wiki-paragraph\">11월 01일</div></td><td><div class=\"wiki-paragraph\">무뚝뚝</div></td><td><div class=\"wiki-paragraph\">O</div></td><td><div class=\"wiki-paragraph\">O</div></td><td><div class=\"wiki-paragraph\">O</div></td><td><div class=\"wiki-paragraph\">O</div></td><td><div class=\"wiki-paragraph\">O</div></td><td><div class=\"wiki-paragraph\">O</div></td><td><div class=\"wiki-paragraph\">O</div></td><td><div class=\"wiki-paragraph\">O</div></td><td><div class=\"wiki-paragraph\">O</div></td></tr><tr><td><div class=\"wiki-paragraph\"><a class=\"wiki-link-internal\" href=\"/w/%ED%8C%8C%EC%9D%BC:Lucky_NLa.png\" rel=\"nofollow\" title=\"파일:Lucky_NLa.png\"><span class=\"wiki-image-align-normal\" style=\"width:100px;\"><span class=\"wiki-image-wrapper\" style=\"width: 100%;\"><img alt=\"파일:Lucky_NLa.png\" src=\"//ww.namu.la/s/12513be4f0d295e63ebaba54e880fcc6a534d75b56dc73c88ff8a0435baddd9237ee456d98c1715d733072d4cea776c2c832310319e7824c41846a4b0a4740f9e37dbd66e3ff379371cd96a4acc5734416e4a7bd31d6d5c23e395ef3d536a11f\" width=\"100%\"/></span></span></a></div></td><td><div class=\"wiki-paragraph\">럭키</div></td><td><div class=\"wiki-paragraph\">ラッキー</div></td><td><div class=\"wiki-paragraph\">Lucky</div></td><td><div class=\"wiki-paragraph\">♂</div></td><td><div class=\"wiki-paragraph\">11월 04일</div></td><td><div class=\"wiki-paragraph\">먹보</div></td><td><div class=\"wiki-paragraph\">O</div></td><td><div class=\"wiki-paragraph\">O</div></td><td><div class=\"wiki-paragraph\">O</div></td><td><div class=\"wiki-paragraph\">O</div></td><td><div class=\"wiki-paragraph\">O</div></td><td><div class=\"wiki-paragraph\">O</div></td><td><div class=\"wiki-paragraph\">O</div></td><td><div class=\"wiki-paragraph\">O</div></td><td><div class=\"wiki-paragraph\">O</div></td></tr><tr><td><div class=\"wiki-paragraph\"><a class=\"wiki-link-internal\" href=\"/w/%ED%8C%8C%EC%9D%BC:Biskit_NLa.png\" rel=\"nofollow\" title=\"파일:Biskit_NLa.png\"><span class=\"wiki-image-align-normal\" style=\"width:100px;\"><span class=\"wiki-image-wrapper\" style=\"width: 100%;\"><img alt=\"파일:Biskit_NLa.png\" src=\"//w.namu.la/s/9633ea1712b6923e004f7858c4b362b3d466136f026897b8937c96ea7ff931b7a6b7381b6dd99be6fbbf1214b3f7b98e374f649012c257201608b5d0ed5c0a39e50dc61b460b5804d1f65a63260224c033e8c0388e41db5a5b31d95a40a767bd\" width=\"100%\"/></span></span></a></div></td><td><div class=\"wiki-paragraph\">로빈</div></td><td><div class=\"wiki-paragraph\">ロビン</div></td><td><div class=\"wiki-paragraph\">Biskit</div></td><td><div class=\"wiki-paragraph\">♂</div></td><td><div class=\"wiki-paragraph\">05월 13일</div></td><td><div class=\"wiki-paragraph\">먹보</div></td><td><div class=\"wiki-paragraph\">O</div></td><td><div class=\"wiki-paragraph\">O</div></td><td><div class=\"wiki-paragraph\">O</div></td><td><div class=\"wiki-paragraph\">O</div></td><td><div class=\"wiki-paragraph\">O</div></td><td><div class=\"wiki-paragraph\">O</div></td><td><div class=\"wiki-paragraph\">O</div></td><td><div class=\"wiki-paragraph\">　</div></td><td><div class=\"wiki-paragraph\">O</div></td></tr><tr><td><div class=\"wiki-paragraph\"><a class=\"wiki-link-internal\" href=\"/w/%ED%8C%8C%EC%9D%BC:Bones_NLa.png\" rel=\"nofollow\" title=\"파일:Bones_NLa.png\"><span class=\"wiki-image-align-normal\" style=\"width:100px;\"><span class=\"wiki-image-wrapper\" style=\"width: 100%;\"><img alt=\"파일:Bones_NLa.png\" src=\"//w.namu.la/s/439855a78fc8f9bb46ea9f0c511b5e411281532a3ff51618fd9ce8279708ee214e5cd7243202bc3ac84cc5e2c90c4873a93d39db8657977317e71333f5c3ff2b5677da4e108597cc0105a4ba54d26da8a2805c6905917eab9aa381ce028c2fa6\" width=\"100%\"/></span></span></a></div></td><td><div class=\"wiki-paragraph\">토미</div></td><td><div class=\"wiki-paragraph\">トミ</div></td><td><div class=\"wiki-paragraph\">Bones</div></td><td><div class=\"wiki-paragraph\">♂</div></td><td><div class=\"wiki-paragraph\">08월 04일</div></td><td><div class=\"wiki-paragraph\">먹보</div></td><td><div class=\"wiki-paragraph\">O</div></td><td><div class=\"wiki-paragraph\">O</div></td><td><div class=\"wiki-paragraph\">O</div></td><td><div class=\"wiki-paragraph\">O</div></td><td><div class=\"wiki-paragraph\">O</div></td><td><div class=\"wiki-paragraph\">O</div></td><td><div class=\"wiki-paragraph\">O</div></td><td><div class=\"wiki-paragraph\">　</div></td><td><div class=\"wiki-paragraph\">O</div></td></tr><tr><td><div class=\"wiki-paragraph\"><a class=\"wiki-link-internal\" href=\"/w/%ED%8C%8C%EC%9D%BC:Walker_NLa.png\" rel=\"nofollow\" title=\"파일:Walker_NLa.png\"><span class=\"wiki-image-align-normal\" style=\"width:100px;\"><span class=\"wiki-image-wrapper\" style=\"width: 100%;\"><img alt=\"파일:Walker_NLa.png\" src=\"//ww.namu.la/s/8c37373ccff17c8724563d0e32adb34d2f65a57a423ef370110d6a2d0c4e766ea684f524ff4988a4ec2745d4c0034f6cc6f746e5c15ec558f69fe790d76ac4c44935b38c169f7403f5246d5d44360c4b32ea0de3f9169ad7326019b466be8d20\" width=\"100%\"/></span></span></a></div></td><td><div class=\"wiki-paragraph\">벤</div></td><td><div class=\"wiki-paragraph\">ベン</div></td><td><div class=\"wiki-paragraph\">Walker</div></td><td><div class=\"wiki-paragraph\">♂</div></td><td><div class=\"wiki-paragraph\">06월 10일</div></td><td><div class=\"wiki-paragraph\">먹보</div></td><td><div class=\"wiki-paragraph\">X</div></td><td><div class=\"wiki-paragraph\">X</div></td><td><div class=\"wiki-paragraph\">O</div></td><td><div class=\"wiki-paragraph\">O</div></td><td><div class=\"wiki-paragraph\">O</div></td><td><div class=\"wiki-paragraph\">O</div></td><td><div class=\"wiki-paragraph\">O</div></td><td><div class=\"wiki-paragraph\">　</div></td><td><div class=\"wiki-paragraph\">O</div></td></tr><tr><td><div class=\"wiki-paragraph\"><a class=\"wiki-link-internal\" href=\"/w/%ED%8C%8C%EC%9D%BC:Mac_NLa.png\" rel=\"nofollow\" title=\"파일:Mac_NLa.png\"><span class=\"wiki-image-align-normal\" style=\"width:100px;\"><span class=\"wiki-image-wrapper\" style=\"width: 100%;\"><img alt=\"파일:Mac_NLa.png\" src=\"//w.namu.la/s/17a3addca5c537b3d6874eacef5c649f579772e78bcbad29da2b44dff7364037d4d0183ca8bbac8d3cbb985c8509719adbac51926045e557c2d51c2a1db8f1057adcac4f7a5cc68e8a220e09be5ddcc1bbc02255460abe54bd2ac4f6174a00ce\" width=\"100%\"/></span></span></a></div></td><td><div class=\"wiki-paragraph\">챔프</div></td><td><div class=\"wiki-paragraph\">チャンプ</div></td><td><div class=\"wiki-paragraph\">Mac</div></td><td><div class=\"wiki-paragraph\">♂</div></td><td><div class=\"wiki-paragraph\">11월 11일</div></td><td><div class=\"wiki-paragraph\">운동광</div></td><td><div class=\"wiki-paragraph\">X</div></td><td><div class=\"wiki-paragraph\">X</div></td><td><div class=\"wiki-paragraph\">X</div></td><td><div class=\"wiki-paragraph\">X</div></td><td><div class=\"wiki-paragraph\">O</div></td><td><div class=\"wiki-paragraph\">O</div></td><td><div class=\"wiki-paragraph\">O</div></td><td><div class=\"wiki-paragraph\">　</div></td><td><div class=\"wiki-paragraph\">O</div></td></tr><tr><td><div class=\"wiki-paragraph\"><a class=\"wiki-link-internal\" href=\"/w/%ED%8C%8C%EC%9D%BC:Marcel_NLa.png\" rel=\"nofollow\" title=\"파일:Marcel_NLa.png\"><span class=\"wiki-image-align-normal\" style=\"width:100px;\"><span class=\"wiki-image-wrapper\" style=\"width: 100%;\"><img alt=\"파일:Marcel_NLa.png\" src=\"//ww.namu.la/s/4f8374777b5eb9a9f31483ae1e25d836cd367d68a4f942d315e84d76762d9f43b6579a584b9a72d40a38ec5057f2afb0d75f754343608e0b55450e927cad2d92eda9d74bfe7899dc7ade4a62beb3aca69f46cc86c10d43af6ddf67ea6ebfbe81\" width=\"100%\"/></span></span></a></div></td><td><div class=\"wiki-paragraph\">에드워드</div></td><td><div class=\"wiki-paragraph\">もんじゃ</div></td><td><div class=\"wiki-paragraph\">Marcel</div></td><td><div class=\"wiki-paragraph\">♂</div></td><td><div class=\"wiki-paragraph\">12월 31일</div></td><td><div class=\"wiki-paragraph\">먹보</div></td><td><div class=\"wiki-paragraph\">X</div></td><td><div class=\"wiki-paragraph\">X</div></td><td><div class=\"wiki-paragraph\">X</div></td><td><div class=\"wiki-paragraph\">X</div></td><td><div class=\"wiki-paragraph\">O</div></td><td><div class=\"wiki-paragraph\">O</div></td><td><div class=\"wiki-paragraph\">O</div></td><td><div class=\"wiki-paragraph\">　</div></td><td><div class=\"wiki-paragraph\">O</div></td></tr><tr><td><div class=\"wiki-paragraph\"><a class=\"wiki-link-internal\" href=\"/w/%ED%8C%8C%EC%9D%BC:Benjamin_NL.png\" rel=\"nofollow\" title=\"파일:Benjamin_NL.png\"><span class=\"wiki-image-align-normal\" style=\"width:100px;\"><span class=\"wiki-image-wrapper\" style=\"width: 100%;\"><img alt=\"파일:Benjamin_NL.png\" src=\"//w.namu.la/s/10f6bd70f9f14eca3b5cc622069913b901d85ca18450ca022eaf0770b18448a110cb21e442afcbf28f2b4082d79f417d46146597770eaeb63badeabad4ce5ad0d38e1a154034d956b16293e34fcd8575e105363b641a298326be82765c5afbd2\" width=\"100%\"/></span></span></a></div></td><td><div class=\"wiki-paragraph\">땡칠이</div></td><td><div class=\"wiki-paragraph\">ハチ</div></td><td><div class=\"wiki-paragraph\">Benjamin</div></td><td><div class=\"wiki-paragraph\">♂</div></td><td><div class=\"wiki-paragraph\">08월 03일</div></td><td><div class=\"wiki-paragraph\">먹보</div></td><td><div class=\"wiki-paragraph\">X</div></td><td><div class=\"wiki-paragraph\">X</div></td><td><div class=\"wiki-paragraph\">X</div></td><td><div class=\"wiki-paragraph\">X</div></td><td><div class=\"wiki-paragraph\">X</div></td><td><div class=\"wiki-paragraph\">O</div></td><td><div class=\"wiki-paragraph\">O</div></td><td><div class=\"wiki-paragraph\">　</div></td><td><div class=\"wiki-paragraph\">O</div></td></tr><tr><td><div class=\"wiki-paragraph\"><a class=\"wiki-link-internal\" href=\"/w/%ED%8C%8C%EC%9D%BC:Shep_NL.png\" rel=\"nofollow\" title=\"파일:Shep_NL.png\"><span class=\"wiki-image-align-normal\" style=\"width:100px;\"><span class=\"wiki-image-wrapper\" style=\"width: 100%;\"><img alt=\"파일:Shep_NL.png\" src=\"//ww.namu.la/s/ffc5773ed3901bb047d5575546f8ad99afe2f84b553e43d7fd1ac7479388c899f1e06dc950caa836cf4f3f02d1729b71203188a1d7267190dfdcd1fb0524845d770f205539e06e994c6d8bbcc5ba1997f587536579326a7f6a9da93996b9a853\" width=\"100%\"/></span></span></a></div></td><td><div class=\"wiki-paragraph\">밥</div></td><td><div class=\"wiki-paragraph\">ボブ</div></td><td><div class=\"wiki-paragraph\">Shep</div></td><td><div class=\"wiki-paragraph\">♂</div></td><td><div class=\"wiki-paragraph\">11월 24일</div></td><td><div class=\"wiki-paragraph\">느끼함</div></td><td><div class=\"wiki-paragraph\">X</div></td><td><div class=\"wiki-paragraph\">X</div></td><td><div class=\"wiki-paragraph\">X</div></td><td><div class=\"wiki-paragraph\">X</div></td><td><div class=\"wiki-paragraph\">X</div></td><td><div class=\"wiki-paragraph\">O</div></td><td><div class=\"wiki-paragraph\">O</div></td><td><div class=\"wiki-paragraph\">　</div></td><td><div class=\"wiki-paragraph\">O</div></td></tr><tr><td><div class=\"wiki-paragraph\"><a class=\"wiki-link-internal\" href=\"/w/%ED%8C%8C%EC%9D%BC:Goldie_NH.png\" rel=\"nofollow\" title=\"파일:Goldie_NH.png\"><span class=\"wiki-image-align-normal\" style=\"width:100px;\"><span class=\"wiki-image-wrapper\" style=\"width: 100%;\"><img alt=\"파일:Goldie_NH.png\" src=\"//w.namu.la/s/0ca5462e7fb3d5b2a8c0d93dd563392bbbec20a07a3acf054dfa82478d335dfe5d98eb20774ff5263697696f3e1772178fa9ff9e3a3078d31d3c9a77a6d2df0e66ad4b9e847e689c1bb49bfdf6f723f35679f6cc2a1cf28713ff8e5e8958cc1e\" width=\"100%\"/></span></span></a></div></td><td><div class=\"wiki-paragraph\">카라멜</div></td><td><div class=\"wiki-paragraph\">キャラメル</div></td><td><div class=\"wiki-paragraph\">Goldie</div></td><td><div class=\"wiki-paragraph\">♀</div></td><td><div class=\"wiki-paragraph\">12월 27일</div></td><td><div class=\"wiki-paragraph\">친절함</div></td><td><div class=\"wiki-paragraph\">O</div></td><td><div class=\"wiki-paragraph\">O</div></td><td><div class=\"wiki-paragraph\">O</div></td><td><div class=\"wiki-paragraph\">O</div></td><td><div class=\"wiki-paragraph\">O</div></td><td><div class=\"wiki-paragraph\">O</div></td><td><div class=\"wiki-paragraph\">O</div></td><td><div class=\"wiki-paragraph\">O</div></td><td><div class=\"wiki-paragraph\">O</div></td></tr><tr><td><div class=\"wiki-paragraph\"><a class=\"wiki-link-internal\" href=\"/w/%ED%8C%8C%EC%9D%BC:Portia_NLa.png\" rel=\"nofollow\" title=\"파일:Portia_NLa.png\"><span class=\"wiki-image-align-normal\" style=\"width:100px;\"><span class=\"wiki-image-wrapper\" style=\"width: 100%;\"><img alt=\"파일:Portia_NLa.png\" src=\"//w.namu.la/s/e9d1624d47a91b01b367905865cdabf739b52cb825ba729eb8c456ddf95d923275a8c2fdce83159deb3c7adedfc505c54c0765153a46cd22e51bfbd80123ef3095a5b53384c98411b47d1e589dc9d2297469701e8abddbea97bf428199a47e63\" width=\"100%\"/></span></span></a></div></td><td><div class=\"wiki-paragraph\">블랜더</div></td><td><div class=\"wiki-paragraph\">ブレンダ</div></td><td><div class=\"wiki-paragraph\">Portia</div></td><td><div class=\"wiki-paragraph\">♀</div></td><td><div class=\"wiki-paragraph\">10월 25일</div></td><td><div class=\"wiki-paragraph\">성숙함</div></td><td><div class=\"wiki-paragraph\">O</div></td><td><div class=\"wiki-paragraph\">O</div></td><td><div class=\"wiki-paragraph\">O</div></td><td><div class=\"wiki-paragraph\">O</div></td><td><div class=\"wiki-paragraph\">O</div></td><td><div class=\"wiki-paragraph\">O</div></td><td><div class=\"wiki-paragraph\">O</div></td><td><div class=\"wiki-paragraph\">　</div></td><td><div class=\"wiki-paragraph\">O</div></td></tr><tr><td><div class=\"wiki-paragraph\"><a class=\"wiki-link-internal\" href=\"/w/%ED%8C%8C%EC%9D%BC:Daisy_NLa.png\" rel=\"nofollow\" title=\"파일:Daisy_NLa.png\"><span class=\"wiki-image-align-normal\" style=\"width:100px;\"><span class=\"wiki-image-wrapper\" style=\"width: 100%;\"><img alt=\"파일:Daisy_NLa.png\" src=\"//ww.namu.la/s/17893ef1adb6a62a5b5368a4a3fbd0735c368e9502d36d3f83758d7dc7fc0012ba721bf457c41fb428287854fea1392a07b9115d9ec76b38a8a09d7cf6a3d812f79d7f7823bd4e44c02d6c4c53ad84b8c86676f97e566425353ac8f03f4dce12\" width=\"100%\"/></span></span></a></div></td><td><div class=\"wiki-paragraph\">바닐라</div></td><td><div class=\"wiki-paragraph\">バニラ</div></td><td><div class=\"wiki-paragraph\">Daisy</div></td><td><div class=\"wiki-paragraph\">♀</div></td><td><div class=\"wiki-paragraph\">11월 16일</div></td><td><div class=\"wiki-paragraph\">친절함</div></td><td><div class=\"wiki-paragraph\">O</div></td><td><div class=\"wiki-paragraph\">O</div></td><td><div class=\"wiki-paragraph\">O</div></td><td><div class=\"wiki-paragraph\">O</div></td><td><div class=\"wiki-paragraph\">O</div></td><td><div class=\"wiki-paragraph\">O</div></td><td><div class=\"wiki-paragraph\">O</div></td><td><div class=\"wiki-paragraph\">O</div></td><td><div class=\"wiki-paragraph\">O</div></td></tr><tr><td><div class=\"wiki-paragraph\"><a class=\"wiki-link-internal\" href=\"/w/%ED%8C%8C%EC%9D%BC:Cookie_NLa.png\" rel=\"nofollow\" title=\"파일:Cookie_NLa.png\"><span class=\"wiki-image-align-normal\" style=\"width:100px;\"><span class=\"wiki-image-wrapper\" style=\"width: 100%;\"><img alt=\"파일:Cookie_NLa.png\" src=\"//w.namu.la/s/13b32d87ce74d6a4e04b895937b8c12383919537c18bce1979461d9b319bee4321a5cd4234cc9dd11e837ccbbb897ae81b1272598b2ef841cd358ba4ec38d030d3341d4ba5ed2654bc350f8e50ea34f932731c4969765228b3ab8e37d365cf8b\" width=\"100%\"/></span></span></a></div></td><td><div class=\"wiki-paragraph\">베리</div></td><td><div class=\"wiki-paragraph\">ペリーヌ</div></td><td><div class=\"wiki-paragraph\">Cookie</div></td><td><div class=\"wiki-paragraph\">♀</div></td><td><div class=\"wiki-paragraph\">06월 18일</div></td><td><div class=\"wiki-paragraph\">아이돌</div></td><td><div class=\"wiki-paragraph\">O</div></td><td><div class=\"wiki-paragraph\">O</div></td><td><div class=\"wiki-paragraph\">O</div></td><td><div class=\"wiki-paragraph\">X</div></td><td><div class=\"wiki-paragraph\">O</div></td><td><div class=\"wiki-paragraph\">O</div></td><td><div class=\"wiki-paragraph\">O</div></td><td><div class=\"wiki-paragraph\">　</div></td><td><div class=\"wiki-paragraph\">O</div></td></tr><tr><td><div class=\"wiki-paragraph\"><a class=\"wiki-link-internal\" href=\"/w/%ED%8C%8C%EC%9D%BC:Maddie_NL.png\" rel=\"nofollow\" title=\"파일:Maddie_NL.png\"><span class=\"wiki-image-align-normal\" style=\"width:100px;\"><span class=\"wiki-image-wrapper\" style=\"width: 100%;\"><img alt=\"파일:Maddie_NL.png\" src=\"//w.namu.la/s/4f57593232d0acf40fd5f5465d17521657a6bf88b116641b34a635cf04d9c402100f537d8cbf6d75054e6fc3dc0db7b0dcccb8857b1821d36a6decc7b2d25fb0c1307938ba5994447b2ab3a4b5d8f49ba14391d59aa92f4305e4395ec93bfef4\" width=\"100%\"/></span></span></a></div></td><td><div class=\"wiki-paragraph\">마롱</div></td><td><div class=\"wiki-paragraph\">マロン</div></td><td><div class=\"wiki-paragraph\">Maddie</div></td><td><div class=\"wiki-paragraph\">♀</div></td><td><div class=\"wiki-paragraph\">01월 11일</div></td><td><div class=\"wiki-paragraph\">아이돌</div></td><td><div class=\"wiki-paragraph\">O</div></td><td><div class=\"wiki-paragraph\">O</div></td><td><div class=\"wiki-paragraph\">O</div></td><td><div class=\"wiki-paragraph\">X</div></td><td><div class=\"wiki-paragraph\">X</div></td><td><div class=\"wiki-paragraph\">◎</div></td><td><div class=\"wiki-paragraph\">O</div></td><td><div class=\"wiki-paragraph\">O</div></td><td><div class=\"wiki-paragraph\">O</div></td></tr><tr><td><div class=\"wiki-paragraph\"><a class=\"wiki-link-internal\" href=\"/w/%ED%8C%8C%EC%9D%BC:Bea_NL.png\" rel=\"nofollow\" title=\"파일:Bea_NL.png\"><span class=\"wiki-image-align-normal\" style=\"width:100px;\"><span class=\"wiki-image-wrapper\" style=\"width: 100%;\"><img alt=\"파일:Bea_NL.png\" src=\"//w.namu.la/s/c29f7f98f6781de61462cc3a6d207e98cd96f7a774971497206d8b97b60da369365f0faa10f69ef1b684938ef469df08f7fd90ea3c11882dc6451cdbf7a8e6f5b3af75b9c8b3ab828d30cc86f45180ef317020b0712d8e61ce845c4f7b160f96\" width=\"100%\"/></span></span></a></div></td><td><div class=\"wiki-paragraph\">베이글</div></td><td><div class=\"wiki-paragraph\">ベーグル</div></td><td><div class=\"wiki-paragraph\">Bea</div></td><td><div class=\"wiki-paragraph\">♀</div></td><td><div class=\"wiki-paragraph\">10월 15일</div></td><td><div class=\"wiki-paragraph\">친절함</div></td><td><div class=\"wiki-paragraph\">O</div></td><td><div class=\"wiki-paragraph\">O</div></td><td><div class=\"wiki-paragraph\">O</div></td><td><div class=\"wiki-paragraph\">X</div></td><td><div class=\"wiki-paragraph\">X</div></td><td><div class=\"wiki-paragraph\">◎</div></td><td><div class=\"wiki-paragraph\">X</div></td><td><div class=\"wiki-paragraph\">O</div></td><td><div class=\"wiki-paragraph\">O</div></td></tr><tr><td><div class=\"wiki-paragraph\"><a class=\"wiki-link-internal\" href=\"/w/%ED%8C%8C%EC%9D%BC:Cherry_NLa.png\" rel=\"nofollow\" title=\"파일:Cherry_NLa.png\"><span class=\"wiki-image-align-normal\" style=\"width:100px;\"><span class=\"wiki-image-wrapper\" style=\"width: 100%;\"><img alt=\"파일:Cherry_NLa.png\" src=\"//w.namu.la/s/a65741ebffc85ad70e36a4fc4eccf737138ec36ab9a38791c5853e84746533abe2571adebd40f53b3908e24f8904c6acaa9a92340cc44b8a4608776e9ce582758388139a781f466fa4c2bc24ac4939817519e4d50942d99c8615f775ea531291\" width=\"100%\"/></span></span></a></div></td><td><div class=\"wiki-paragraph\">한나</div></td><td><div class=\"wiki-paragraph\">ハンナ</div></td><td><div class=\"wiki-paragraph\">Cherry</div></td><td><div class=\"wiki-paragraph\">♀</div></td><td><div class=\"wiki-paragraph\">05월 11일</div></td><td><div class=\"wiki-paragraph\">단순활발</div></td><td><div class=\"wiki-paragraph\">X</div></td><td><div class=\"wiki-paragraph\">X</div></td><td><div class=\"wiki-paragraph\">X</div></td><td><div class=\"wiki-paragraph\">X</div></td><td><div class=\"wiki-paragraph\">X</div></td><td><div class=\"wiki-paragraph\">O</div></td><td><div class=\"wiki-paragraph\">O</div></td><td><div class=\"wiki-paragraph\">O</div></td><td><div class=\"wiki-paragraph\">O</div></td></tr><tr data-dark-style=\"background-color:#4D5059;\" style=\"background-color:#EAEAEA;\"><td style=\"text-align:center;\"><div class=\"wiki-paragraph\"><a class=\"wiki-link-internal\" href=\"/w/%ED%8C%8C%EC%9D%BC:Champagne_DnMe%2B.png\" rel=\"nofollow\" title=\"파일:Champagne_DnMe+.png\"><span class=\"wiki-image-align-normal\" style=\"width:80px;\"><span class=\"wiki-image-wrapper\" style=\"width: 100%;\"><img alt=\"파일:Champagne_DnMe+.png\" src=\"//ww.namu.la/s/1efb7cc8d7bd3532905fce2753204604d19e5023afe456eedeeded2ee3bd0d37f1b694c7266d64cb2fc5c2b266a12fa2f4581720a822e26c597ff94dc5cb6c91b49605ab00f5d9563763b7af3ae48613b33656a1072851351cb9428dced127d3\" width=\"100%\"/></span></span></a></div></td><td><div class=\"wiki-paragraph\">(없음)</div></td><td><div class=\"wiki-paragraph\">シャンパン</div></td><td><div class=\"wiki-paragraph\">(없음)</div></td><td><div class=\"wiki-paragraph\">♂</div></td><td><div class=\"wiki-paragraph\">04월 01일</div></td><td><div class=\"wiki-paragraph\">무뚝뚝</div></td><td><div class=\"wiki-paragraph\">X</div></td><td><div class=\"wiki-paragraph\">X</div></td><td><div class=\"wiki-paragraph\">O</div></td><td><div class=\"wiki-paragraph\">X</div></td><td><div class=\"wiki-paragraph\">X</div></td><td><div class=\"wiki-paragraph\">X</div></td><td><div class=\"wiki-paragraph\">X</div></td><td><div class=\"wiki-paragraph\">　</div></td><td style=\"text-align:right;\"><div class=\"wiki-paragraph\"></div></td></tr><tr data-dark-style=\"background-color:#4D5059;\" style=\"background-color:#EAEAEA;\"><td style=\"text-align:center;\"><div class=\"wiki-paragraph\"><a class=\"wiki-link-internal\" href=\"/w/%ED%8C%8C%EC%9D%BC:Masa_DnMe%2B.png\" rel=\"nofollow\" title=\"파일:Masa_DnMe+.png\"><span class=\"wiki-image-align-normal\" style=\"width:80px;\"><span class=\"wiki-image-wrapper\" style=\"width: 100%;\"><img alt=\"파일:Masa_DnMe+.png\" src=\"//w.namu.la/s/9364773ea6a6873635e7d62f289c5e4e2cbc49c70c199b8c67444402640624a503793c84fe19eb8c745ad63383766968b3162f61b97525498c9592ad928d3fbd0cf4868beedbef0e15559a32e9baa56514eebce23cbd537b4e3fec06a66bee38\" width=\"100%\"/></span></span></a></div></td><td><div class=\"wiki-paragraph\">(없음)</div></td><td><div class=\"wiki-paragraph\">マサ</div></td><td><div class=\"wiki-paragraph\">(없음)</div></td><td><div class=\"wiki-paragraph\">♂</div></td><td><div class=\"wiki-paragraph\">05월 26일</div></td><td><div class=\"wiki-paragraph\">무뚝뚝</div></td><td><div class=\"wiki-paragraph\">X</div></td><td><div class=\"wiki-paragraph\">X</div></td><td><div class=\"wiki-paragraph\">☆</div></td><td><div class=\"wiki-paragraph\">X</div></td><td><div class=\"wiki-paragraph\">X</div></td><td><div class=\"wiki-paragraph\">X</div></td><td><div class=\"wiki-paragraph\">X</div></td><td><div class=\"wiki-paragraph\">　</div></td><td style=\"text-align:right;\"><div class=\"wiki-paragraph\"></div></td></tr><tr data-dark-style=\"background-color:#4D5059;\" style=\"background-color:#EAEAEA;\"><td style=\"text-align:center;\"><div class=\"wiki-paragraph\"><a class=\"wiki-link-internal\" href=\"/w/%ED%8C%8C%EC%9D%BC:Bow_DnMe%2B.png\" rel=\"nofollow\" title=\"파일:Bow_DnMe+.png\"><span class=\"wiki-image-align-normal\" style=\"width:80px;\"><span class=\"wiki-image-wrapper\" style=\"width: 100%;\"><img alt=\"파일:Bow_DnMe+.png\" src=\"//w.namu.la/s/6c64a948253821770e820a72d0bb79af92487412c21d7ab701725f904b4507199c4b30680b87dda75e254b3ca1b518c2fe931417647003d402414554b1ed1bbd2eed95b3bdf7b7b2025ff0251b11f7123ab624ab20b15ac7045d73d17eb34aa7\" width=\"100%\"/></span></span></a></div></td><td style=\"text-align:left;\"><div class=\"wiki-paragraph\">(없음)</div></td><td><div class=\"wiki-paragraph\">バウ</div></td><td><div class=\"wiki-paragraph\">(없음)</div></td><td><div class=\"wiki-paragraph\">♂</div></td><td><div class=\"wiki-paragraph\">08월 03일</div></td><td><div class=\"wiki-paragraph\">먹보</div></td><td><div class=\"wiki-paragraph\">X</div></td><td><div class=\"wiki-paragraph\">X</div></td><td><div class=\"wiki-paragraph\">O</div></td><td><div class=\"wiki-paragraph\">X</div></td><td><div class=\"wiki-paragraph\">X</div></td><td><div class=\"wiki-paragraph\">X</div></td><td><div class=\"wiki-paragraph\">X</div></td><td><div class=\"wiki-paragraph\">　</div></td><td style=\"text-align:right;\"><div class=\"wiki-paragraph\"></div></td></tr><tr data-dark-style=\"background-color:#4D5059;\" style=\"background-color:#EAEAEA;\"><td style=\"text-align:center;\"><div class=\"wiki-paragraph\"><a class=\"wiki-link-internal\" href=\"/w/%ED%8C%8C%EC%9D%BC:Megumi_DnMe%2B2.png\" rel=\"nofollow\" title=\"파일:Megumi_DnMe+2.png\"><span class=\"wiki-image-align-normal\" style=\"width:80px;\"><span class=\"wiki-image-wrapper\" style=\"width: 100%;\"><img alt=\"파일:Megumi_DnMe+2.png\" src=\"//ww.namu.la/s/99fa0e2a96ff1439da1b156d3b9765f6ab8111826e47db01aee95e3eaf35851e0e779a4ae7fa87a93407b8f954d064ed3fe38356b48aa93a4c9f51e83c8b0ac5468e160785ce6162c023ec143a6a1aceee933d289f7f65da116656aaf0551544\" width=\"100%\"/></span></span></a></div></td><td><div class=\"wiki-paragraph\">(없음)</div></td><td><div class=\"wiki-paragraph\">めぐみ</div></td><td><div class=\"wiki-paragraph\">(없음)</div></td><td><div class=\"wiki-paragraph\">♀</div></td><td><div class=\"wiki-paragraph\">04월 13일</div></td><td><div class=\"wiki-paragraph\">아이돌</div></td><td><div class=\"wiki-paragraph\">X</div></td><td><div class=\"wiki-paragraph\">X</div></td><td><div class=\"wiki-paragraph\">O</div></td><td><div class=\"wiki-paragraph\">X</div></td><td><div class=\"wiki-paragraph\">X</div></td><td><div class=\"wiki-paragraph\">X</div></td><td><div class=\"wiki-paragraph\">X</div></td><td><div class=\"wiki-paragraph\">　</div></td><td style=\"text-align:right;\"><div class=\"wiki-paragraph\"></div></td></tr></tbody></table>\n"
     ]
    }
   ],
   "source": [
    "print(t[11]) # 개 테이블 시작"
   ]
  },
  {
   "cell_type": "code",
   "execution_count": 10,
   "metadata": {},
   "outputs": [
    {
     "name": "stdout",
     "output_type": "stream",
     "text": [
      "[<strong>이미지</strong>, <strong><span class=\"wiki-color\" style=\"color:#00af04\">이름</span></strong>, <strong><span class=\"wiki-color\" style=\"color:#00af04\">특징</span></strong>, <strong><span class=\"wiki-color\" style=\"color:#00af04\">등장</span></strong>]\n"
     ]
    }
   ],
   "source": [
    "col = t[11].tr # 실제 곤충 데이터가 있는 테이블 설정\n",
    "cols = col.select('strong')\n",
    "print(cols)"
   ]
  },
  {
   "cell_type": "code",
   "execution_count": 51,
   "metadata": {},
   "outputs": [
    {
     "name": "stdout",
     "output_type": "stream",
     "text": [
      "Empty DataFrame\n",
      "Columns: [이름, 성별, 생일, 성격]\n",
      "Index: []\n"
     ]
    }
   ],
   "source": [
    "columns = ['이름', '성별', '생일', '성격'] # 나중에 종류 추가하기\n",
    "df = pd.DataFrame(columns = columns)\n",
    "print(df) # 칼럼만 있는 데이터 생성"
   ]
  },
  {
   "cell_type": "code",
   "execution_count": 52,
   "metadata": {},
   "outputs": [],
   "source": [
    "content = t[11] # 민물고기 목록\n",
    "animals = content.select('td')\n",
    "# print(content)\n",
    "animallist = []\n",
    "for animal in animals:\n",
    "    animallist.append(animal.text)\n",
    "# print(animallist[20:]) # 16개씩 세트\n",
    "animallist2 = animallist[20:]  # 맨 앞줄 제외한 동물이름 리스트\n",
    "# print(animallist2)"
   ]
  },
  {
   "cell_type": "code",
   "execution_count": 67,
   "metadata": {},
   "outputs": [],
   "source": [
    "for a in range(20): # 개 종류 20마리\n",
    "#     print([animallist2[a*16 + 0], animallist2[a*16 +3], animallist2[a*16 +4], animallist2[a*16 +5]]) # 예쁘게 한 줄로 뽑아내기 a*16:a*16+16\n",
    "    df.loc[a] = animallist2[a*16 + 0], animallist2[a*16 +3], animallist2[a*16 +4], animallist2[a*16 +5]\n",
    "    "
   ]
  },
  {
   "cell_type": "code",
   "execution_count": 68,
   "metadata": {},
   "outputs": [
    {
     "name": "stdout",
     "output_type": "stream",
     "text": [
      "      이름 성별       생일    성격\n",
      "15    한나  ♀  05월 11일  단순활발\n",
      "16  (없음)  ♂  04월 01일   무뚝뚝\n",
      "17  (없음)  ♂  05월 26일   무뚝뚝\n",
      "18  (없음)  ♂  08월 03일    먹보\n",
      "19  (없음)  ♀  04월 13일   아이돌\n"
     ]
    }
   ],
   "source": [
    "    # 예쁘게 한 줄로 뽑아내기 a*16:a*16+16\n",
    "print(df.tail())"
   ]
  },
  {
   "cell_type": "code",
   "execution_count": 69,
   "metadata": {},
   "outputs": [],
   "source": [
    "df.to_excel('animal_dog.xlsx')"
   ]
  },
  {
   "cell_type": "code",
   "execution_count": null,
   "metadata": {},
   "outputs": [],
   "source": []
  }
 ],
 "metadata": {
  "kernelspec": {
   "display_name": "Python 3",
   "language": "python",
   "name": "python3"
  },
  "language_info": {
   "codemirror_mode": {
    "name": "ipython",
    "version": 3
   },
   "file_extension": ".py",
   "mimetype": "text/x-python",
   "name": "python",
   "nbconvert_exporter": "python",
   "pygments_lexer": "ipython3",
   "version": "3.7.6"
  }
 },
 "nbformat": 4,
 "nbformat_minor": 4
}
