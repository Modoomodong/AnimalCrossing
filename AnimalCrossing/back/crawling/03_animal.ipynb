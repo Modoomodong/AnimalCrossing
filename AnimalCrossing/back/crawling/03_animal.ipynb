{
 "cells": [
  {
   "cell_type": "code",
   "execution_count": 53,
   "metadata": {},
   "outputs": [],
   "source": [
    "import pandas as pd\n",
    "from bs4 import BeautifulSoup\n",
    "import requests\n",
    "from urllib import parse\n",
    "import re\n",
    "import requests"
   ]
  },
  {
   "cell_type": "code",
   "execution_count": 54,
   "metadata": {},
   "outputs": [],
   "source": [
    "URL = \"https://namu.wiki/w/%EB%8F%99%EB%AC%BC%EC%9D%98%20%EC%88%B2%20%EC%8B%9C%EB%A6%AC%EC%A6%88/%EC%9D%BC%EB%B0%98%20%EC%A3%BC%EB%AF%BC\"\n",
    "def get_html(url):\n",
    "    r = requests.get(url)\n",
    "    return r.text\n",
    "html = get_html(URL)\n",
    "soup=BeautifulSoup(html,\"html.parser\")"
   ]
  },
  {
   "cell_type": "code",
   "execution_count": 229,
   "metadata": {},
   "outputs": [
    {
     "name": "stdout",
     "output_type": "stream",
     "text": [
      "45\n"
     ]
    }
   ],
   "source": [
    "t = soup.find_all(\"table\")\n",
    "print(len(t))"
   ]
  },
  {
   "cell_type": "code",
   "execution_count": 230,
   "metadata": {},
   "outputs": [],
   "source": [
    "# print(t[11]) # 개 테이블 시작"
   ]
  },
  {
   "cell_type": "code",
   "execution_count": 231,
   "metadata": {},
   "outputs": [
    {
     "name": "stdout",
     "output_type": "stream",
     "text": [
      "[<strong>이미지</strong>, <strong><span class=\"wiki-color\" style=\"color:#00af04\">이름</span></strong>, <strong><span class=\"wiki-color\" style=\"color:#00af04\">특징</span></strong>, <strong><span class=\"wiki-color\" style=\"color:#00af04\">등장</span></strong>]\n"
     ]
    }
   ],
   "source": [
    "col = t[11].tr # 실제 곤충 데이터가 있는 테이블 설정\n",
    "cols = col.select('strong')\n",
    "print(cols)"
   ]
  },
  {
   "cell_type": "code",
   "execution_count": 312,
   "metadata": {},
   "outputs": [
    {
     "name": "stdout",
     "output_type": "stream",
     "text": [
      "Empty DataFrame\n",
      "Columns: [이름, 성별, 생일, 성격]\n",
      "Index: []\n"
     ]
    }
   ],
   "source": [
    "columns = ['이름', '성별', '생일', '성격'] # 나중에 종류 추가하기\n",
    "df = pd.DataFrame(columns = columns)\n",
    "print(df) # 칼럼만 있는 데이터 생성"
   ]
  },
  {
   "cell_type": "code",
   "execution_count": 313,
   "metadata": {},
   "outputs": [],
   "source": [
    "# content = t[11] # 개 목록"
   ]
  },
  {
   "cell_type": "code",
   "execution_count": 314,
   "metadata": {},
   "outputs": [],
   "source": [
    "animallist = []"
   ]
  },
  {
   "cell_type": "code",
   "execution_count": 315,
   "metadata": {},
   "outputs": [],
   "source": [
    "# 사슴 25 26 빼고\n",
    "for num in range(11, 25):\n",
    "#     print(num)\n",
    "    temp = t[num].select('td')\n",
    "    temp = temp[19:]\n",
    "    for te in temp:\n",
    "        animallist.append(te.text)"
   ]
  },
  {
   "cell_type": "code",
   "execution_count": 316,
   "metadata": {},
   "outputs": [
    {
     "name": "stdout",
     "output_type": "stream",
     "text": [
      "      이름 성별       생일   성격\n",
      "217  에포나  ♀  11월 21일  아이돌\n",
      "218   문복  ♂  09월 20일  무뚝뚝\n",
      "219   탁호  ♂  03월 08일   먹보\n",
      "220  문리나  ♀  06월 26일  친절함\n",
      "221  멍무리  ♂  06월 02일  운동광\n",
      "222\n"
     ]
    }
   ],
   "source": [
    "# df에 미리 추가하기\n",
    "for a in range(222): # 개 종류 20마리\n",
    "#     print(animallist[a*16+1])\n",
    "#     print([animallist[a*16 + 1], animallist[a*16 +4], animallist[a*16 +5], animallist[a*16 +6]]) # 예쁘게 한 줄로 뽑아내기 a*16:a*16+16\n",
    "    df.loc[a] = animallist[a*16 + 1], animallist[a*16 +4], animallist[a*16 +5], animallist[a*16 +6]\n",
    "print(df.tail())\n",
    "print(len(df))"
   ]
  },
  {
   "cell_type": "code",
   "execution_count": 317,
   "metadata": {},
   "outputs": [],
   "source": [
    "deer = []\n",
    "# 제외한것들 추가 25 26 34 43 사슴 사슴뒤에 원숭이 햄스터\n",
    "# 25 사슴\n",
    "ex1 = t[25].select('td')\n",
    "ex1 = ex1[14:]\n",
    "for ex11 in ex1:\n",
    "    deer.append(ex11.text)"
   ]
  },
  {
   "cell_type": "code",
   "execution_count": 291,
   "metadata": {},
   "outputs": [
    {
     "name": "stdout",
     "output_type": "stream",
     "text": [
      "        이름 성별       생일       성격\n",
      "203     꺼벙  ♂  09월 16일  운동광/느끼함\n",
      "204   슈베르트  ♂  06월 16일      무뚝뚝\n",
      "205    안소니  ♂  05월 22일      느끼함\n",
      "206    유니오  ♂  03월 15일      느끼함\n",
      "207    마철이  ♂  05월 01일       먹보\n",
      "208    마사마  ♂  01월 10일       먹보\n",
      "209    사반나  ♀  01월 25일      친절함\n",
      "210    카로틴  ♀  01월 31일      아이돌\n",
      "211  아이소토프  ♀  02월 09일      성숙함\n",
      "212     말자  ♀  11월 28일      친절함\n",
      "213   실부플레  ♀  12월 02일      성숙함\n",
      "214   센트엘로  ♀  07월 11일      아이돌\n",
      "215    리아나  ♀  06월 04일     단순활발\n",
      "216     7호  ♀  07월 11일      친절함\n",
      "217    에포나  ♀  11월 21일      아이돌\n",
      "218     문복  ♂  09월 20일      무뚝뚝\n",
      "219     탁호  ♂  03월 08일       먹보\n",
      "220    문리나  ♀  06월 26일      친절함\n",
      "221    멍무리  ♂  06월 02일      운동광\n",
      "222     록키  ♂  11월 07일      운동광\n",
      "223     넬슨  ♂  06월 07일      느끼함\n",
      "224    브루스  ♂  05월 26일      무뚝뚝\n",
      "225     피터  ♂  04월 05일       먹보\n",
      "226     자끄  ♂  07월 27일       먹보\n",
      "227     톰슨  ♂  08월 20일      느끼함\n",
      "228     솔미  ♀  03월 26일      친절함\n",
      "229    제시카  ♀  09월 19일     단순활발\n",
      "230    나탈리  ♀  01월 04일      성숙함\n",
      "231    나디아  ♀  05월 04일     단순활발\n",
      "232     첼시  ♀  01월 18일      친절함\n",
      "233\n"
     ]
    }
   ],
   "source": [
    "for aa in range(11): # 사슴 종류\n",
    "#     print(deer[aa*11+1])\n",
    "#     print([animallist[a*11 + 1], animallist[a*11 +4], animallist[a*11 +5], animallist[a*11 +6]]) # 예쁘게 한 줄로 뽑아내기 a*16:a*16+16\n",
    "    df.loc[aa + 222] = (deer[aa*11 + 1], deer[aa*11 +4], deer[aa*11 +5], deer[aa*11 +6])\n",
    "print(df.tail(30))\n",
    "print(len(df))"
   ]
  },
  {
   "cell_type": "code",
   "execution_count": 318,
   "metadata": {},
   "outputs": [
    {
     "name": "stdout",
     "output_type": "stream",
     "text": [
      "9.0\n"
     ]
    }
   ],
   "source": [
    "# 26\n",
    "lions = []\n",
    "ex2 = t[26].select('td')\n",
    "ex2 = ex2[18:]\n",
    "for ex22 in ex2:\n",
    "    lions.append(ex22.text)\n",
    "print(len(lions)/15)"
   ]
  },
  {
   "cell_type": "code",
   "execution_count": 319,
   "metadata": {},
   "outputs": [
    {
     "name": "stdout",
     "output_type": "stream",
     "text": [
      "       이름       성별       생일   성격\n",
      "220   문리나        ♀  06월 26일  친절함\n",
      "221   멍무리        ♂  06월 02일  운동광\n",
      "233    렉스  07월 24일       먹보    O\n",
      "234    티처  08월 14일      느끼함    O\n",
      "235    선글  08월 18일      운동광    X\n",
      "236     킹  07월 23일      무뚝뚝    X\n",
      "237     릭  07월 10일      운동광    X\n",
      "238    아더  08월 07일      운동광    X\n",
      "239  라이오넬  07월 29일      느끼함    X\n",
      "240  (없음)  02월 26일      운동광    O\n",
      "241  (없음)  10월 16일      무뚝뚝    X\n",
      "231\n"
     ]
    }
   ],
   "source": [
    "# 사자 9마리 추가\n",
    "for aa in range(9):\n",
    "    df.loc[aa + 233] = (lions[aa*15 + 1], lions[aa*15 +4], lions[aa*15 +5], lions[aa*15 +6])\n",
    "print(df.tail(11))\n",
    "print(len(df))"
   ]
  },
  {
   "cell_type": "code",
   "execution_count": 322,
   "metadata": {},
   "outputs": [
    {
     "name": "stdout",
     "output_type": "stream",
     "text": [
      "111.0\n",
      "       이름 성별       생일    성격\n",
      "350   귀오미  ♀  03월 07일   친절함\n",
      "351  (없음)  ♂  04월 11일   운동광\n",
      "352  (없음)  ♂  01월 01일   운동광\n",
      "353    몽티  ♂  12월 07일   무뚝뚝\n",
      "354    원승  ♂  11월 21일   운동광\n",
      "355    델리  ♂  05월 24일    먹보\n",
      "356    키키  ♀  08월 23일   친절함\n",
      "357    몽자  ♀  03월 21일   성숙함\n",
      "358  에이프릴  ♀  04월 02일   아이돌\n",
      "359    젤리  ♀  04월 10일  단순활발\n",
      "360   몽돌이  ♂  06월 04일   운동광\n",
      "350\n"
     ]
    }
   ],
   "source": [
    "animallist2 = []\n",
    "for num in range(27, 34):\n",
    "#     print(num)\n",
    "    temp = t[num].select('td')\n",
    "    temp = temp[19:]\n",
    "    for te in temp:\n",
    "        animallist2.append(te.text)\n",
    "print(len(animallist2)/16)\n",
    "for aa in range(111):\n",
    "    df.loc[aa + 242] = (animallist2[aa*16 + 1], animallist2[aa*16 +4], animallist2[aa*16 +5], animallist2[aa*16 +6])\n",
    "print(df.tail(11))\n",
    "print(len(df))"
   ]
  },
  {
   "cell_type": "code",
   "execution_count": 323,
   "metadata": {},
   "outputs": [
    {
     "name": "stdout",
     "output_type": "stream",
     "text": [
      "       이름 성별       생일    성격\n",
      "352  (없음)  ♂  01월 01일   운동광\n",
      "353    시몬  ♂  01월 19일    먹보\n",
      "354    몽티  ♂  12월 07일   무뚝뚝\n",
      "355    원승  ♂  11월 21일   운동광\n",
      "356    델리  ♂  05월 24일    먹보\n",
      "357    키키  ♀  08월 23일   친절함\n",
      "358    몽자  ♀  03월 21일   성숙함\n",
      "359  에이프릴  ♀  04월 02일   아이돌\n",
      "360    젤리  ♀  04월 10일  단순활발\n",
      "361   몽돌이  ♂  06월 04일   운동광\n",
      "351\n"
     ]
    }
   ],
   "source": [
    "# 34 원숭이\n",
    "monkey = []\n",
    "ex4 = t[34].select('td')\n",
    "ex4 = ex4[16:]\n",
    "for ex44 in ex4:\n",
    "#     print(ex44.text)\n",
    "    monkey.append(ex44.text)\n",
    "# print(len(monkey)/13)\n",
    "for aa in range(9):\n",
    "    df.loc[aa + 353] = (monkey[aa*13 + 1], monkey[aa*13 +4], monkey[aa*13 +5], monkey[aa*13 +6])\n",
    "print(df.tail(10))\n",
    "print(len(df))"
   ]
  },
  {
   "cell_type": "code",
   "execution_count": 324,
   "metadata": {},
   "outputs": [
    {
     "name": "stdout",
     "output_type": "stream",
     "text": [
      "102.0\n"
     ]
    }
   ],
   "source": [
    "animallist3 = []\n",
    "for num in range(35, 43):\n",
    "    temp = t[num].select('td')\n",
    "    temp = temp[19:]\n",
    "    for te in temp:\n",
    "        animallist3.append(te.text)\n",
    "print(len(animallist3)/16)"
   ]
  },
  {
   "cell_type": "code",
   "execution_count": 325,
   "metadata": {},
   "outputs": [
    {
     "name": "stdout",
     "output_type": "stream",
     "text": [
      "102.0\n",
      "       이름 성별       생일   성격\n",
      "452  곤잘레스  ♂  08월 18일  무뚝뚝\n",
      "453  가브리엘  ♂  03월 29일  운동광\n",
      "454   올리버  ♂  01월 07일  무뚝뚝\n",
      "455   데이빗  ♂  10월 15일  느끼함\n",
      "456    차코  ♀  09월 18일  아이돌\n",
      "457    베티  ♀  04월 25일  친절함\n",
      "458    비티  ♀  10월 06일  성숙함\n",
      "459  (없음)  ♂  06월 22일   먹보\n",
      "460  (없음)  ♀  01월 09일  아이돌\n",
      "461  (없음)  ♀  07월 08일  친절함\n",
      "451\n"
     ]
    }
   ],
   "source": [
    "print(len(animallist3)/16)\n",
    "for aa in range(102):\n",
    "    df.loc[aa + 360] = (animallist3[aa*16 + 1], animallist3[aa*16 +4], animallist3[aa*16 +5], animallist3[aa*16 +6])\n",
    "print(df.tail(10))\n",
    "print(len(df))"
   ]
  },
  {
   "cell_type": "code",
   "execution_count": 327,
   "metadata": {},
   "outputs": [
    {
     "name": "stdout",
     "output_type": "stream",
     "text": [
      "9.0\n"
     ]
    }
   ],
   "source": [
    "# 43 햄스터\n",
    "hem = []\n",
    "ex3 = t[43].select('td')\n",
    "ex3 = ex3[14:]\n",
    "for ex33 in ex3:\n",
    "    hem.append(ex33.text)\n",
    "#     print(ex33.text)\n",
    "print(len(hem)/11)"
   ]
  },
  {
   "cell_type": "code",
   "execution_count": 334,
   "metadata": {},
   "outputs": [
    {
     "name": "stdout",
     "output_type": "stream",
     "text": [
      "       이름 성별       생일   성격\n",
      "461  (없음)  ♀  07월 08일  친절함\n",
      "462   햄스틴  ♂  05월 30일  운동광\n",
      "463   글라햄  ♂  06월 20일  느끼함\n",
      "464    지미  ♂  11월 10일  느끼함\n",
      "465    햄둥  ♂  10월 19일   먹보\n",
      "466    햄쥐  ♂  02월 25일  무뚝뚝\n",
      "467    애플  ♀  09월 24일  아이돌\n",
      "468   뽀야미  ♀  01월 30일  친절함\n",
      "469    샨티  ♀  08월 09일  성숙함\n",
      "470   노리보  ♂  06월 11일  운동광\n",
      "460\n"
     ]
    }
   ],
   "source": [
    "for aa in range(9):\n",
    "    df.loc[aa + 462] = (hem[aa*11 + 1], hem[aa*11 +4], hem[aa*11 +5], hem[aa*11 +6])\n",
    "print(df.tail(10))\n",
    "print(len(df))"
   ]
  },
  {
   "cell_type": "code",
   "execution_count": 335,
   "metadata": {},
   "outputs": [
    {
     "name": "stdout",
     "output_type": "stream",
     "text": [
      "7.0\n",
      "['', '호랭이', 'チョモラン', 'Rolf', '♂', '08월 22일', '무뚝뚝', 'O', 'O', 'O', 'O', 'O', 'O', 'O', '\\u3000', 'O', '', '고메스', 'ゴメス', 'Rowan', '♂', '08월 26일', '무뚝뚝/운동광', 'X', '☆', '☆', 'O', 'O', 'O', 'O', 'O', 'O', '', '티볼트', 'ハリマオ', 'Tybalt', '♂', '08월 19일', '운동광', 'O', 'O', 'O', 'X', 'X', '◎', 'X', '', 'O', '', '범호', 'ヒョウタ', 'Leonardo', '♂', '05월 15일', '운동광', 'X', 'X', 'O', 'X', 'X', 'O', 'O', '', 'O', '', '루주', 'ルーズ', 'Bangle', '♀', '08월 27일', '아이돌', 'O', 'O', 'O', 'X', 'X', 'O', 'O', '', 'O', '', '신디', 'マリリン', 'Claudia', '♀', '11월 22일', '성숙함', 'X', 'X', 'X', 'X', 'X', 'O', 'O', 'O', 'O', '', '백희', 'コユキ', 'Bianca', '♀', '12월 13일', '아이돌', 'X', 'X', 'X', 'X', 'X', 'O', 'O', 'O', 'O']\n"
     ]
    }
   ],
   "source": [
    "# 호랑이\n",
    "tiger = []\n",
    "for num in range(44, 45):\n",
    "    temp = t[num].select('td')\n",
    "    temp = temp[19:]\n",
    "    for te in temp:\n",
    "        tiger.append(te.text)\n",
    "print(len(tiger)/16)\n",
    "print(tiger)"
   ]
  },
  {
   "cell_type": "code",
   "execution_count": 336,
   "metadata": {},
   "outputs": [],
   "source": [
    "# 호랑이 추가\n",
    "for a in range(7): # 개 종류 20마리\n",
    "#     print(animallist[a*16+1])\n",
    "#     print([animallist[a*16 + 1], animallist[a*16 +4], animallist[a*16 +5], animallist[a*16 +6]]) # 예쁘게 한 줄로 뽑아내기 a*16:a*16+16\n",
    "    df.loc[a + 470] = tiger[a*16 + 1], tiger[a*16 +4], tiger[a*16 +5], tiger[a*16 +6]"
   ]
  },
  {
   "cell_type": "code",
   "execution_count": 337,
   "metadata": {},
   "outputs": [
    {
     "name": "stdout",
     "output_type": "stream",
     "text": [
      "      이름 성별       생일       성격\n",
      "467   애플  ♀  09월 24일      아이돌\n",
      "468  뽀야미  ♀  01월 30일      친절함\n",
      "469   샨티  ♀  08월 09일      성숙함\n",
      "470  호랭이  ♂  08월 22일      무뚝뚝\n",
      "471  고메스  ♂  08월 26일  무뚝뚝/운동광\n",
      "472  티볼트  ♂  08월 19일      운동광\n",
      "473   범호  ♂  05월 15일      운동광\n",
      "474   루주  ♀  08월 27일      아이돌\n",
      "475   신디  ♀  11월 22일      성숙함\n",
      "476   백희  ♀  12월 13일      아이돌\n"
     ]
    }
   ],
   "source": [
    "print(df.tail(10))"
   ]
  },
  {
   "cell_type": "code",
   "execution_count": 339,
   "metadata": {},
   "outputs": [],
   "source": [
    "df.to_excel('animals.xlsx')"
   ]
  },
  {
   "cell_type": "code",
   "execution_count": null,
   "metadata": {},
   "outputs": [],
   "source": []
  }
 ],
 "metadata": {
  "kernelspec": {
   "display_name": "Python 3",
   "language": "python",
   "name": "python3"
  },
  "language_info": {
   "codemirror_mode": {
    "name": "ipython",
    "version": 3
   },
   "file_extension": ".py",
   "mimetype": "text/x-python",
   "name": "python",
   "nbconvert_exporter": "python",
   "pygments_lexer": "ipython3",
   "version": "3.7.6"
  }
 },
 "nbformat": 4,
 "nbformat_minor": 4
}
