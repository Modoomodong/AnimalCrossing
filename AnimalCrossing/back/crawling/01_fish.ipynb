{
 "cells": [
  {
   "cell_type": "code",
   "execution_count": 6,
   "metadata": {},
   "outputs": [],
   "source": [
    "import pandas as pd\n",
    "from bs4 import BeautifulSoup\n",
    "import requests\n",
    "from urllib import parse\n",
    "import re\n",
    "import requests"
   ]
  },
  {
   "cell_type": "code",
   "execution_count": 7,
   "metadata": {},
   "outputs": [],
   "source": [
    "URL = \"https://namu.wiki/w/%EB%8F%99%EB%AC%BC%EC%9D%98%20%EC%88%B2%20%EC%8B%9C%EB%A6%AC%EC%A6%88/%EB%AC%BC%EA%B3%A0%EA%B8%B0\"\n",
    "def get_html(url):\n",
    "    r = requests.get(url)\n",
    "    return r.text\n",
    "html = get_html(URL)\n",
    "soup=BeautifulSoup(html,\"html.parser\")"
   ]
  },
  {
   "cell_type": "code",
   "execution_count": 8,
   "metadata": {},
   "outputs": [
    {
     "name": "stdout",
     "output_type": "stream",
     "text": [
      "7\n"
     ]
    }
   ],
   "source": [
    "l = soup.find_all(\"table\")\n",
    "print(len(l))"
   ]
  },
  {
   "cell_type": "code",
   "execution_count": 9,
   "metadata": {},
   "outputs": [
    {
     "name": "stdout",
     "output_type": "stream",
     "text": [
      "<tr style=\"background-color:#00af04; color:#fff;\"><td style=\"text-align:center;\"><div class=\"wiki-paragraph\"><strong>이름</strong></div></td><td style=\"text-align:center;\"><div class=\"wiki-paragraph\"><strong>모습</strong></div></td><td style=\"text-align:center;\"><div class=\"wiki-paragraph\"><strong>출현 기간<br/>(북반구)</strong></div></td><td style=\"text-align:center;\"><div class=\"wiki-paragraph\"><strong>출현 기간<br/>(남반구)</strong></div></td><td style=\"text-align:center;\"><div class=\"wiki-paragraph\"><strong>출현 시간</strong></div></td><td style=\"text-align:center;\"><div class=\"wiki-paragraph\"><strong>출현 장소</strong></div></td><td style=\"text-align:center;\"><div class=\"wiki-paragraph\"><strong>크기</strong></div></td><td style=\"text-align:center;\"><div class=\"wiki-paragraph\"><strong>판매 가격(벨)</strong></div></td><td style=\"text-align:center;\"><div class=\"wiki-paragraph\"><strong>최초 등장</strong></div></td></tr>\n"
     ]
    }
   ],
   "source": [
    "print(l[3].tr) # 첫 줄\n",
    "col = l[3].tr"
   ]
  },
  {
   "cell_type": "code",
   "execution_count": 10,
   "metadata": {},
   "outputs": [
    {
     "name": "stdout",
     "output_type": "stream",
     "text": [
      "[<strong>이름</strong>, <strong>모습</strong>, <strong>출현 기간<br/>(북반구)</strong>, <strong>출현 기간<br/>(남반구)</strong>, <strong>출현 시간</strong>, <strong>출현 장소</strong>, <strong>크기</strong>, <strong>판매 가격(벨)</strong>, <strong>최초 등장</strong>]\n"
     ]
    }
   ],
   "source": [
    "cols = col.select('strong')\n",
    "print(cols)"
   ]
  },
  {
   "cell_type": "code",
   "execution_count": 11,
   "metadata": {},
   "outputs": [],
   "source": [
    "columns = []"
   ]
  },
  {
   "cell_type": "code",
   "execution_count": 12,
   "metadata": {},
   "outputs": [
    {
     "name": "stdout",
     "output_type": "stream",
     "text": [
      "['이름', '모습', '출현 기간(북반구)', '출현 기간(남반구)', '출현 시간', '출현 장소', '크기', '판매 가격(벨)']\n"
     ]
    }
   ],
   "source": [
    "for column in cols:\n",
    "    columns.append(column.text)\n",
    "print(columns[:-1])"
   ]
  },
  {
   "cell_type": "code",
   "execution_count": 13,
   "metadata": {},
   "outputs": [
    {
     "name": "stdout",
     "output_type": "stream",
     "text": [
      "Empty DataFrame\n",
      "Columns: [이름, 모습, 출현 기간(북반구), 출현 기간(남반구), 출현 시간, 출현 장소, 크기, 판매 가격(벨)]\n",
      "Index: []\n"
     ]
    }
   ],
   "source": [
    "fishdf = pd.DataFrame(columns = columns[:-1])\n",
    "print(fishdf) # 칼럼만 있는 데이터 생성"
   ]
  },
  {
   "cell_type": "code",
   "execution_count": 14,
   "metadata": {},
   "outputs": [],
   "source": [
    "content = l[3] # 민물고기 목록\n",
    "fishes = content.select('td')\n",
    "# print(content)\n",
    "fishlist = []\n",
    "for fish in fishes:\n",
    "    fishlist.append(fish.text)\n",
    "# print(fishlist)"
   ]
  },
  {
   "cell_type": "code",
   "execution_count": 15,
   "metadata": {},
   "outputs": [
    {
     "name": "stdout",
     "output_type": "stream",
     "text": [
      "46\n"
     ]
    }
   ],
   "source": [
    "fishnum = len(fishlist)//9 - 1\n",
    "print(fishnum)"
   ]
  },
  {
   "cell_type": "code",
   "execution_count": 16,
   "metadata": {},
   "outputs": [],
   "source": [
    "for i in range(2, fishnum+2): # 0-45\n",
    "    fishdf.loc[i-2] = fishlist[(i-1)*9:((i-1)*9)+8 ] # 0 8, 9, 17, 18, 23"
   ]
  },
  {
   "cell_type": "code",
   "execution_count": 17,
   "metadata": {},
   "outputs": [
    {
     "name": "stdout",
     "output_type": "stream",
     "text": [
      "                 이름 모습 출현 기간(북반구) 출현 기간(남반구)   출현 시간 출현 장소     크기 판매 가격(벨)\n",
      "0  납줄개タナゴBitterling        11월~3월      5월~9월    하루종일     강     작다      900\n",
      "1  피라미オイカワPale chub         1년 내내      1년 내내  9시~16시     강     작다      200\n",
      "2  붕어フナCrucian carp         1년 내내      1년 내내    하루종일     강  약간 작다      160\n",
      "3         황어ウグイDace         1년 내내      1년 내내  16시~9시     강     중간      240\n",
      "4          잉어コイCarp         1년 내내      1년 내내    하루종일    연못  약간 크다      300\n"
     ]
    }
   ],
   "source": [
    "print(fishdf.head())"
   ]
  },
  {
   "cell_type": "code",
   "execution_count": 18,
   "metadata": {},
   "outputs": [],
   "source": [
    "fishdf.to_excel('fish1.xlsx')"
   ]
  },
  {
   "cell_type": "code",
   "execution_count": 22,
   "metadata": {},
   "outputs": [],
   "source": [
    "col2 = l[4].tr"
   ]
  },
  {
   "cell_type": "code",
   "execution_count": 23,
   "metadata": {},
   "outputs": [
    {
     "name": "stdout",
     "output_type": "stream",
     "text": [
      "[<strong>이름</strong>, <strong>모습</strong>, <strong>출현 기간<br/>(북반구)</strong>, <strong>출현 기간<br/>(남반구)</strong>, <strong>출현 시간</strong>, <strong>출현 장소</strong>, <strong>크기</strong>, <strong>판매 가격(벨)</strong>, <strong>최초 등장</strong>]\n"
     ]
    }
   ],
   "source": [
    "cols2 = col2.select('strong')\n",
    "print(cols2)"
   ]
  },
  {
   "cell_type": "code",
   "execution_count": 41,
   "metadata": {},
   "outputs": [],
   "source": [
    "columns2 = []\n",
    "for column2 in cols2:\n",
    "    columns2.append(column2.text)\n",
    "# print(columns2[:-1])"
   ]
  },
  {
   "cell_type": "code",
   "execution_count": 42,
   "metadata": {},
   "outputs": [
    {
     "name": "stdout",
     "output_type": "stream",
     "text": [
      "Empty DataFrame\n",
      "Columns: [이름, 모습, 출현 기간(북반구), 출현 기간(남반구), 출현 시간, 출현 장소, 크기, 판매 가격(벨)]\n",
      "Index: []\n"
     ]
    }
   ],
   "source": [
    "fishdf2 = pd.DataFrame(columns = columns2[:-1])\n",
    "print(fishdf2) # 칼럼만 있는 데이터 생성"
   ]
  },
  {
   "cell_type": "code",
   "execution_count": 43,
   "metadata": {},
   "outputs": [
    {
     "name": "stdout",
     "output_type": "stream",
     "text": [
      "['이름', '모습', '출현 기간(북반구)', '출현 기간(남반구)', '출현 시간', '출현 장소', '크기', '판매 가격(벨)', '최초 등장', '클리오네[2]クリオネSea butterfly', '', '12월~3월', '6월~9월', '하루종일', '바다', '작다', '1000', '놀러오세요 동물의 숲', '해마タツノオトシゴSea horse', '', '4월~11월', '10월~5월', '하루종일', '바다', '작다', '1100', '동물의 숲 e+', '흰동가리クマノミClown fish', '', '4월~9월', '10월~3월', '하루종일', '바다', '작다', '650', '놀러오세요 동물의 숲', '블루탱ナンヨウハギSurgeonfish', '', '4월~9월', '10월~3월', '하루종일', '바다', '약간 작다', '1000', '타운으로 놀러가요 동물의 숲', '나비고기チョウチョウウオButterfly fish', '', '4월~9월', '10월~3월', '하루종일', '바다', '약간 작다', '1000', '타운으로 놀러가요 동물의 숲', '나폴레옹피시ナポレオンフィッシュNapoleonfish', '', '7월~8월', '1월~2월', '4시~21시', '바다', '특대', '10000', '타운으로 놀러가요 동물의 숲', '쏨뱅이[3]ミノカサゴZebra turkeyfish', '', '4월~11월', '10월~5월', '하루종일', '바다', '중간', '500', '놀러오세요 동물의 숲', '복어フグBlowfish', '', '11월~2월', '5월~7월', '21시~4시', '바다', '중간', '5000', '튀어나와요 동물의 숲', '가시복ハリセンボンPuffer fish', '', '7월~9월', '1월~3월', '하루종일', '바다', '중간', '240', '동물의 숲 e+', '멸치アンチョビAnchovy', '', '1년 내내', '1년 내내', '4시~21시', '바다', '약간 작다', '200', '모여봐요 동물의 숲', '전갱이アジHorse mackerel', '', '1년 내내', '1년 내내', '하루종일', '바다', '약간 작다', '150', '동물의 숲 e+', '돌돔イシダイBarred knifejaw', '', '3월~11월', '9월~5월', '하루종일', '바다', '중간', '5000', '동물의 숲 +', '농어スズキSea bass', '', '1년 내내', '1년 내내', '하루종일', '바다', '크다', '400', '동물의 숲 +', '도미タイRed snapper', '', '1년 내내', '1년 내내', '하루종일', '바다', '약간 크다', '3000', '동물의 숲 +', '가자미カレイDab', '', '10월~4월', '4월~10월', '하루종일', '바다', '중간', '300', '동물의 숲 e+', '넙치ヒラメOlive flounder', '', '1년 내내', '1년 내내', '하루종일', '바다', '크다', '800', '동물의 숲 e+', '오징어イカSquid', '', '12월~8월', '6월~2월', '하루종일', '바다', '중간', '500', '동물의 숲 e+', '곰치ウツボMoray eel', '', '8월~10월', '2월~4월', '하루종일', '바다', '길다', '2000', '타운으로 놀러가요 동물의 숲', '리본장어ハナヒゲウツボRibbon eel', '', '6월~10월', '12월~4월', '하루종일', '바다', '길다', '600', '튀어나와요 동물의 숲', '다랑어マグロTuna', '', '11월~4월', '5월~10월', '하루종일', '부둣가', '특대', '7000', '놀러오세요 동물의 숲', '청새치カジキBlue marlin', '', '7월~9월,11월~4월', '1월~3월,5월~10월', '하루종일', '부둣가', '특대', '10000', '동물의 숲 e+', '무명갈전갱이[4]ロウニンアジGiant trevally', '', '5월~10월', '11월~4월', '하루종일', '부둣가', '크다', '4500', '튀어나와요 동물의 숲', '만새기シイラMahi-mahi', '', '5월~10월', '11월~4월', '하루종일', '부둣가', '크다', '6000', '모여봐요 동물의 숲', '개복치マンボウOcean sunfish', '', '7월~9월', '1월~3월', '4시~21시', '바다', '특대(등지느러미)', '4000', '놀러오세요 동물의 숲', '가오리エイRay', '', '8월~11월', '2월~5월', '4시~21시', '바다', '크다', '3000', '타운으로 놀러가요 동물의 숲', '톱상어[5]ノコギリザメSaw shark', '', '6월~9월', '12월~3월', '16시~9시', '바다', '특대(등지느러미)', '12000', '튀어나와요 동물의 숲', '귀상어シュモクザメHammerhead shark', '', '6월~9월', '12월~3월', '16시~9시', '바다', '특대(등지느러미)', '8000', '놀러오세요 동물의 숲', '상어[6]サメGreat white shark', '', '6월~9월', '12월~3월', '16시~9시', '바다', '특대(등지느러미)', '15000', '놀러오세요 동물의 숲', '고래상어ジンベエザメWhale shark', '', '6월~9월', '12월~3월', '하루종일', '바다', '특대(등지느러미)', '13000', '튀어나와요 동물의 숲', '빨판상어コバンザメSuckerfish', '', '6월~9월', '12월~3월', '하루종일', '바다', '약간 크다(등지느러미)', '1500', '모여봐요 동물의 숲', '초롱아귀チョウチンアンコウFootball fish', '', '11월~3월', '5월~9월', '16시~9시', '바다', '약간 크다', '2500', '놀러오세요 동물의 숲', '산갈치リュウグウノツカイOarfish', '', '12월~5월', '6월~11월', '하루종일', '바다', '특대', '9000', '튀어나와요 동물의 숲', '데메니기스デメニギスBarreleye', '', '1년 내내', '1년 내내', '21시~4시', '바다', '약간 작다', '15000', '모여봐요 동물의 숲', '실러캔스シーラカンスCoelacanth', '', '1년 내내눈 혹은 비', '1년 내내눈 혹은 비', '하루종일', '바다', '특대', '15000', '동물의 숲']\n"
     ]
    }
   ],
   "source": [
    "content2 = l[4] # 바닷물고기 목록\n",
    "fishes2 = content2.select('td')\n",
    "# print(content)\n",
    "fishlist2 = []\n",
    "for fish2 in fishes2:\n",
    "    fishlist2.append(fish2.text)\n",
    "print(fishlist2)"
   ]
  },
  {
   "cell_type": "code",
   "execution_count": 44,
   "metadata": {},
   "outputs": [
    {
     "name": "stdout",
     "output_type": "stream",
     "text": [
      "34\n",
      "                            이름 모습   출현 기간(북반구)   출현 기간(남반구)   출현 시간 출현 장소  \\\n",
      "29         빨판상어コバンザメSuckerfish           6월~9월       12월~3월    하루종일    바다   \n",
      "30  초롱아귀チョウチンアンコウFootball fish          11월~3월        5월~9월  16시~9시    바다   \n",
      "31         산갈치リュウグウノツカイOarfish          12월~5월       6월~11월    하루종일    바다   \n",
      "32         데메니기스デメニギスBarreleye           1년 내내        1년 내내  21시~4시    바다   \n",
      "33        실러캔스シーラカンスCoelacanth     1년 내내눈 혹은 비  1년 내내눈 혹은 비    하루종일    바다   \n",
      "\n",
      "              크기 판매 가격(벨)  \n",
      "29  약간 크다(등지느러미)     1500  \n",
      "30         약간 크다     2500  \n",
      "31            특대     9000  \n",
      "32         약간 작다    15000  \n",
      "33            특대    15000  \n"
     ]
    }
   ],
   "source": [
    "fishnum2 = len(fishlist2)//9 - 1\n",
    "print(fishnum2)\n",
    "for j in range(2, fishnum2+2): # 0-34\n",
    "    fishdf2.loc[j-2] = fishlist2[(j-1)*9:((j-1)*9)+8 ] # 0 8, 9, 17, 18, 23\n",
    "print(fishdf2.tail())"
   ]
  },
  {
   "cell_type": "code",
   "execution_count": 46,
   "metadata": {},
   "outputs": [],
   "source": [
    "fishdf2.to_excel('fish2.xlsx')"
   ]
  },
  {
   "cell_type": "code",
   "execution_count": null,
   "metadata": {},
   "outputs": [],
   "source": []
  }
 ],
 "metadata": {
  "kernelspec": {
   "display_name": "Python 3",
   "language": "python",
   "name": "python3"
  },
  "language_info": {
   "codemirror_mode": {
    "name": "ipython",
    "version": 3
   },
   "file_extension": ".py",
   "mimetype": "text/x-python",
   "name": "python",
   "nbconvert_exporter": "python",
   "pygments_lexer": "ipython3",
   "version": "3.7.6"
  }
 },
 "nbformat": 4,
 "nbformat_minor": 4
}
