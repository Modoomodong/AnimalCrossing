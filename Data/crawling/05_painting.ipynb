{
 "cells": [
  {
   "cell_type": "code",
   "execution_count": 1,
   "metadata": {},
   "outputs": [],
   "source": [
    "import pandas as pd\n",
    "from bs4 import BeautifulSoup\n",
    "import requests\n",
    "from urllib import parse\n",
    "import re\n",
    "import requests"
   ]
  },
  {
   "cell_type": "code",
   "execution_count": 2,
   "metadata": {},
   "outputs": [],
   "source": [
    "URL = \"https://namu.wiki/w/%EB%AA%A8%EC%97%AC%EB%B4%90%EC%9A%94%20%EB%8F%99%EB%AC%BC%EC%9D%98%20%EC%88%B2/%EA%B2%8C%EC%9E%84%20%EA%B4%80%EB%A0%A8%20%EC%A0%95%EB%B3%B4#toc\"\n",
    "def get_html(url):\n",
    "    r = requests.get(url)\n",
    "    return r.text\n",
    "html = get_html(URL)\n",
    "soup=BeautifulSoup(html,\"html.parser\")"
   ]
  },
  {
   "cell_type": "code",
   "execution_count": 3,
   "metadata": {},
   "outputs": [
    {
     "name": "stdout",
     "output_type": "stream",
     "text": [
      "16\n"
     ]
    }
   ],
   "source": [
    "t = soup.find_all(\"table\")\n",
    "print(len(t))"
   ]
  },
  {
   "cell_type": "code",
   "execution_count": 4,
   "metadata": {},
   "outputs": [
    {
     "name": "stdout",
     "output_type": "stream",
     "text": [
      "<table class=\"wiki-table\" data-dark-style=\"background-color:#1f2023; border:2px solid #1f2023;\" style=\"background-color:#ffffff; border:2px solid #ffffff;\"><tbody><tr><td style=\"text-align:left;\"><div class=\"wiki-paragraph\"><div style=\"border:1px solid #fff;background-color:#0b0;border-radius:10px;float:center;padding-top:10px;margin:0px auto;text-align:center\"><strong><span class=\"wiki-color\" style=\"color:#fff\"><span class=\"wiki-size size-up-3\">미술품</span></span></strong><div class=\"wiki-table-wrap\"><table class=\"wiki-table\" style=\"border:2px solid #0b0;\"><tbody><tr style=\"background-color:#0b0; color:#fff;\"><td style=\"text-align:left;\"><div class=\"wiki-paragraph\">명칭</div></td><td style=\"text-align:left;\"><div class=\"wiki-paragraph\">실제 미술품</div></td><td style=\"text-align:left;\"><div class=\"wiki-paragraph\">가품 특징</div></td></tr><tr><td style=\"color:#000; background-color:#fd3; text-align:left;\"><div class=\"wiki-paragraph\">신비로운 조각</div></td><td style=\"text-align:left;\"><div class=\"wiki-paragraph\">투트메스 作<br/><a class=\"wiki-link-internal\" href=\"/w/%EB%84%A4%ED%8E%98%EB%A5%B4%ED%8B%B0%ED%8B%B0\" title=\"네페르티티\">네페르티티</a> 흉상</div></td><td style=\"text-align:left;\"><div class=\"wiki-paragraph\">한쪽 귀에 귀걸이가 있음</div></td></tr><tr><td style=\"color:#000; background-color:#fd3; text-align:left;\"><div class=\"wiki-paragraph\">모성이 느껴지는 조각</div></td><td style=\"text-align:left;\"><div class=\"wiki-paragraph\">작자 미상<br/><a class=\"wiki-link-internal\" href=\"/w/%EB%A1%9C%EB%AC%BC%EB%A3%A8%EC%8A%A4\" title=\"로물루스\">카피톨리나 늑대상</a></div></td><td style=\"text-align:left;\"><div class=\"wiki-paragraph\">늑대가 혀를 내밀고 있음</div></td></tr><tr><td style=\"color:#000; background-color:#fd3; text-align:left;\"><div class=\"wiki-paragraph\"><a class=\"wiki-link-internal\" href=\"/w/%EC%9D%B4%EC%A7%91%ED%8A%B8%20%EC%83%81%ED%98%95%EB%AC%B8%EC%9E%90\" title=\"이집트 상형문자\">단서가 되는</a> 조각</div></td><td style=\"text-align:left;\"><div class=\"wiki-paragraph\">작자 미상<br/><a class=\"wiki-link-internal\" href=\"/w/%EB%A1%9C%EC%A0%9C%ED%83%80%20%EC%84%9D\" title=\"로제타 석\">로제타 스톤</a></div></td><td style=\"text-align:left;\"><div class=\"wiki-paragraph\">파란색을 띠고 있음<br/>왼쪽 위가 깎여있지 않음<br/>밤에 둥근 모양으로 빛이 남</div></td></tr><tr><td style=\"color:#000; background-color:#fd3; text-align:left;\"><div class=\"wiki-paragraph\">듬직한 조각</div></td><td style=\"text-align:left;\"><div class=\"wiki-paragraph\">작자 미상<a class=\"wiki-fn-content\" href=\"#fn-4\" title=\"원래는 고대 그리스의 조각가 미론이 만든 청동 조각이지만 원본은 소실되었고, 본작에서 등장하는 것은 대영박물관에 있는 대리석 복제품.\"><span class=\"target\" id=\"rfn-4\"></span>[4]</a><br/>원반 던지는 사람</div></td><td style=\"text-align:left;\"><div class=\"wiki-paragraph\">원반을 든 손에 손목시계를 차고 있음</div></td></tr><tr><td style=\"color:#000; background-color:#fd3; text-align:left;\"><div class=\"wiki-paragraph\">아름다운 조각</div></td><td style=\"text-align:left;\"><div class=\"wiki-paragraph\">작자 미상<br/>밀로의 <a class=\"wiki-link-internal\" href=\"/w/%EC%95%84%ED%94%84%EB%A1%9C%EB%94%94%ED%85%8C\" title=\"아프로디테\">비너스</a></div></td><td style=\"text-align:left;\"><div class=\"wiki-paragraph\">목걸이를 차고 있음</div></td></tr><tr><td style=\"color:#000; background-color:#fd3; text-align:left;\"><div class=\"wiki-paragraph\"><strong>거룩한 조각</strong></div></td><td style=\"text-align:left;\"><div class=\"wiki-paragraph\">작자 미상<br/>사모트라케의 <a class=\"wiki-link-internal\" href=\"/w/%EB%8B%88%EC%BC%80#s-1.1\" title=\"니케\">니케</a></div></td><td style=\"text-align:left;\"><div class=\"wiki-paragraph\">원본과 좌우가 반대</div></td></tr><tr><td style=\"color:#000; background-color:#fd3; text-align:left;\"><div class=\"wiki-paragraph\"><strong>늠름한 조각</strong><a class=\"wiki-fn-content\" href=\"#fn-5\" title=\"박물관에서 설명을 보면 정상적으로 설명이 된 다른 미술품들과는 달리 마지막에 '그나저나 엄청 크다.' 라는 문구가 있다. 조각상 자체가 크다는 것일지, 아니면...\"><span class=\"target\" id=\"rfn-5\"></span>[5]</a></div></td><td style=\"text-align:left;\"><div class=\"wiki-paragraph\"><a class=\"wiki-link-internal\" href=\"/w/%EB%AF%B8%EC%BC%88%EB%9E%80%EC%A0%A4%EB%A1%9C%20%EB%B6%80%EC%98%A4%EB%82%98%EB%A1%9C%ED%8B%B0\" title=\"미켈란젤로 부오나로티\">미켈란젤로 부오나로티</a> 作<br/><a class=\"wiki-link-internal\" href=\"/w/%EB%8B%A4%EC%9C%97\" title=\"다윗\">다비드</a>상</div></td><td style=\"text-align:left;\"><div class=\"wiki-paragraph\">옆구리에 책을 끼고 있음</div></td></tr><tr><td style=\"color:#000; background-color:#fd3; text-align:left;\"><div class=\"wiki-paragraph\">재미있는 명화</div></td><td style=\"text-align:left;\"><div class=\"wiki-paragraph\"><a class=\"wiki-link-internal\" href=\"/w/%EC%A3%BC%EC%84%B8%ED%8E%98%20%EC%95%84%EB%A5%B4%EC%B9%A8%EB%B3%BC%EB%8F%84\" title=\"주세페 아르침볼도\">주세페 아르침볼도</a> 作<br/>여름<a class=\"wiki-fn-content\" href=\"#fn-6\" title=\"박물관 설명의 연도표기는 1573년으로 되어있으나, 실제로 작중 등장한 것은 뮌헨 알테 피나코테크에 있는 연도불명의 바이에른 버전.(1573년 버전은 루브르 미술관에 있다)\"><span class=\"target\" id=\"rfn-6\"></span>[6]</a></div></td><td style=\"text-align:left;\"><div class=\"wiki-paragraph\">가슴에 <a class=\"wiki-link-internal\" href=\"/w/%EC%95%84%ED%8B%B0%EC%B4%88%ED%81%AC\" title=\"아티초크\">아티초크</a>가 없음</div></td></tr><tr><td style=\"color:#000; background-color:#fd3; text-align:left;\"><div class=\"wiki-paragraph\">뛰어난 명화</div></td><td style=\"text-align:left;\"><div class=\"wiki-paragraph\">피터르 브뤼헐 作<br/>눈 속의 사냥꾼</div></td><td style=\"text-align:left;\"><div class=\"wiki-paragraph\">좌측 하단의 사냥개와 사냥꾼의 수가 적음</div></td></tr><tr><td style=\"color:#000; background-color:#fd3; text-align:left;\"><div class=\"wiki-paragraph\">유명한 명화</div></td><td style=\"text-align:left;\"><div class=\"wiki-paragraph\"><a class=\"wiki-link-internal\" href=\"/w/%EB%A0%88%EC%98%A4%EB%82%98%EB%A5%B4%EB%8F%84%20%EB%8B%A4%20%EB%B9%88%EC%B9%98\" title=\"레오나르도 다 빈치\">레오나르도 다 빈치</a> 作<br/><a class=\"wiki-link-internal\" href=\"/w/%EB%AA%A8%EB%82%98%EB%A6%AC%EC%9E%90\" title=\"모나리자\">모나리자</a></div></td><td style=\"text-align:left;\"><div class=\"wiki-paragraph\">눈썹이 있음</div></td></tr><tr><td style=\"color:#000; background-color:#fd3; text-align:left;\"><div class=\"wiki-paragraph\">아카데믹한 명화</div></td><td style=\"text-align:left;\"><div class=\"wiki-paragraph\"><a class=\"wiki-link-internal\" href=\"/w/%EB%A0%88%EC%98%A4%EB%82%98%EB%A5%B4%EB%8F%84%20%EB%8B%A4%20%EB%B9%88%EC%B9%98\" title=\"레오나르도 다 빈치\">레오나르도 다 빈치</a> 作<br/><a class=\"wiki-link-external\" href=\"https://ko.m.wikipedia.org/wiki/%EB%B9%84%ED%8A%B8%EB%A3%A8%EB%B9%84%EC%9A%B0%EC%8A%A4%EC%A0%81_%EC%9D%B8%EA%B0%84\" rel=\"nofollow noopener\" target=\"_blank\" title=\"https://ko.m.wikipedia.org/wiki/%EB%B9%84%ED%8A%B8%EB%A3%A8%EB%B9%84%EC%9A%B0%EC%8A%A4%EC%A0%81_%EC%9D%B8%EA%B0%84\">인체 비례도</a></div></td><td style=\"text-align:left;\"><div class=\"wiki-paragraph\">우측 상단에 얼룩이 있음</div></td></tr><tr><td style=\"color:#000; background-color:#fd3; text-align:left;\"><div class=\"wiki-paragraph\">아늑한 명화</div></td><td style=\"text-align:left;\"><div class=\"wiki-paragraph\"><a class=\"wiki-link-internal\" href=\"/w/%EB%A0%88%EC%98%A4%EB%82%98%EB%A5%B4%EB%8F%84%20%EB%8B%A4%20%EB%B9%88%EC%B9%98\" title=\"레오나르도 다 빈치\">레오나르도 다 빈치</a> 作<br/>담비를 안고 있는 여인</div></td><td style=\"text-align:left;\"><div class=\"wiki-paragraph\">담비에게 회색 얼룩무늬가 있음</div></td></tr><tr><td style=\"color:#000; background-color:#fd3; text-align:left;\"><div class=\"wiki-paragraph\">예쁜 명화</div></td><td style=\"text-align:left;\"><div class=\"wiki-paragraph\"><a class=\"wiki-link-internal\" href=\"/w/%EC%82%B0%EB%93%9C%EB%A1%9C%20%EB%B3%B4%ED%8B%B0%EC%B2%BC%EB%A6%AC\" title=\"산드로 보티첼리\">산드로 보티첼리</a> 作<br/><a class=\"wiki-link-external\" href=\"https://ko.wikipedia.org/wiki/%EB%B2%A0%EB%88%84%EC%8A%A4%EC%9D%98_%ED%83%84%EC%83%9D\" rel=\"nofollow noopener\" target=\"_blank\" title=\"https://ko.wikipedia.org/wiki/%EB%B2%A0%EB%88%84%EC%8A%A4%EC%9D%98_%ED%83%84%EC%83%9D\">비너스의 탄생</a></div></td><td style=\"text-align:left;\"><div class=\"wiki-paragraph\">우측 상단에 <a class=\"wiki-link-internal\" href=\"/w/%EB%A9%94%EB%94%94%EC%B9%98%20%EA%B0%80%EB%AC%B8\" title=\"메디치 가문\">월계수와 오렌지나무</a>가 없음</div></td></tr><tr><td style=\"color:#000; background-color:#fd3; text-align:left;\"><div class=\"wiki-paragraph\"><strong>위대한 조각</strong></div></td><td style=\"text-align:left;\"><div class=\"wiki-paragraph\">토머스 R. 굴드 作<br/><a class=\"wiki-link-internal\" href=\"/w/%EC%B9%B4%EB%A9%94%ED%95%98%EB%A9%94%ED%95%98%201%EC%84%B8\" title=\"카메하메하 1세\">카메하메하 대왕</a> 동상</div></td><td style=\"text-align:left;\"><div class=\"wiki-paragraph\">가품 없음</div></td></tr><tr><td style=\"color:#000; background-color:#fd3; text-align:left;\"><div class=\"wiki-paragraph\">대단한 명화</div></td><td style=\"text-align:left;\"><div class=\"wiki-paragraph\"><a class=\"wiki-link-internal\" href=\"/w/%EB%A0%98%EB%B8%8C%EB%9E%80%ED%8A%B8%20%ED%95%98%EB%A5%B4%EB%A8%BC%EC%86%90%20%ED%8C%90%20%EB%A0%88%EC%9D%B8\" title=\"렘브란트 하르먼손 판 레인\">렘브란트 반 레인</a> 作<br/><a class=\"wiki-link-internal\" href=\"/w/%EC%95%BC%EA%B2%BD#s-2\" title=\"야경\">야경</a></div></td><td style=\"text-align:left;\"><div class=\"wiki-paragraph\">바닝 코크 대장(가운데의 검은 옷 입은 사람)이 모자를 쓰고 있지 않음</div></td></tr><tr><td style=\"color:#000; background-color:#fd3; text-align:left;\"><div class=\"wiki-paragraph\">근사한 명화</div></td><td style=\"text-align:left;\"><div class=\"wiki-paragraph\"><a class=\"wiki-link-internal\" href=\"/w/%EC%9A%94%ED%95%98%EB%84%A4%EC%8A%A4%20%EB%B2%A0%EB%A5%B4%EB%A9%94%EB%A5%B4\" title=\"요하네스 베르메르\">요하네스 페르메이르</a> 作<br/><a class=\"wiki-link-internal\" href=\"/w/%EC%A7%84%EC%A3%BC%20%EA%B7%80%EA%B3%A0%EB%A6%AC%EB%A5%BC%20%ED%95%9C%20%EC%86%8C%EB%85%80\" title=\"진주 귀고리를 한 소녀\">진주 귀고리를 한 소녀</a></div></td><td style=\"text-align:left;\"><div class=\"wiki-paragraph\">별 모양 귀걸이<br/>눈을 감고 있음(밤)</div></td></tr><tr><td style=\"color:#000; background-color:#fd3; text-align:left;\"><div class=\"wiki-paragraph\">침착한 명화</div></td><td style=\"text-align:left;\"><div class=\"wiki-paragraph\"><a class=\"wiki-link-internal\" href=\"/w/%EC%9A%94%ED%95%98%EB%84%A4%EC%8A%A4%20%EB%B2%A0%EB%A5%B4%EB%A9%94%EB%A5%B4\" title=\"요하네스 베르메르\">요하네스 페르메이르</a> 作<br/>우유 따르는 하녀</div></td><td style=\"text-align:left;\"><div class=\"wiki-paragraph\">따르고 있는 우유의 양이 많음</div></td></tr><tr><td style=\"color:#000; background-color:#fd3; text-align:left;\"><div class=\"wiki-paragraph\">엄숙한 명화</div></td><td style=\"text-align:left;\"><div class=\"wiki-paragraph\"><a class=\"wiki-link-internal\" href=\"/w/%EB%94%94%EC%97%90%EA%B3%A0%20%EB%B2%A8%EB%9D%BC%EC%8A%A4%EC%BC%80%EC%8A%A4\" title=\"디에고 벨라스케스\">디에고 벨라스케스</a> 作<br/>라스메니나스<a class=\"wiki-fn-content\" href=\"#fn-7\" title=\"Las Meninas. 스페인어로 '시녀들'.\"><span class=\"target\" id=\"rfn-7\"></span>[7]</a></div></td><td style=\"text-align:left;\"><div class=\"wiki-paragraph\">뒤쪽 배경에서 문 쪽에 서 있는 사람의 손이 벽에 닿아있지 않음</div></td></tr><tr><td style=\"color:#000; background-color:#fd3; text-align:left;\"><div class=\"wiki-paragraph\">용감한 명화</div></td><td style=\"text-align:left;\"><div class=\"wiki-paragraph\">토마스 게인즈버러 作<br/>파란 옷을 입은 소년</div></td><td style=\"text-align:left;\"><div class=\"wiki-paragraph\">앞머리가 <a class=\"wiki-link-internal\" href=\"/w/%EB%B1%85%ED%97%A4%EC%96%B4\" title=\"뱅헤어\">뱅헤어</a></div></td></tr><tr><td style=\"color:#000; background-color:#fd3; text-align:left;\"><div class=\"wiki-paragraph\">느낌이 좋은 명화</div></td><td style=\"text-align:left;\"><div class=\"wiki-paragraph\"><a class=\"wiki-link-internal\" href=\"/w/%ED%94%84%EB%9E%80%EC%8B%9C%EC%8A%A4%EC%BD%94%20%EA%B3%A0%EC%95%BC\" title=\"프란시스코 고야\">프란시스코 데 고야</a> 作<br/>옷을 입은 마하</div></td><td rowspan=\"3\" style=\"text-align:left;\"><div class=\"wiki-paragraph\">가품 없음</div></td></tr><tr><td style=\"color:#000; background-color:#fd3; text-align:left;\"><div class=\"wiki-paragraph\">가치 있는 명화</div></td><td style=\"text-align:left;\"><div class=\"wiki-paragraph\"><a class=\"wiki-link-internal\" href=\"/w/%EC%99%B8%EC%A0%A0%20%EB%93%A4%EB%9D%BC%ED%81%AC%EB%A3%A8%EC%95%84\" title=\"외젠 들라크루아\">외젠 들라크루아</a> 作<br/><a class=\"wiki-link-internal\" href=\"/w/%EB%AF%BC%EC%A4%91%EC%9D%84%20%EC%9D%B4%EB%81%84%EB%8A%94%20%EC%9E%90%EC%9C%A0%EC%9D%98%20%EC%97%AC%EC%8B%A0\" title=\"민중을 이끄는 자유의 여신\">민중을 이끄는 자유의 여신</a></div></td></tr><tr><td style=\"color:#000; background-color:#fd3; text-align:left;\"><div class=\"wiki-paragraph\">빛의 명화</div></td><td style=\"text-align:left;\"><div class=\"wiki-paragraph\"><a class=\"wiki-link-internal\" href=\"/w/%EC%9C%8C%EB%A6%AC%EC%97%84%20%ED%84%B0%EB%84%88\" title=\"윌리엄 터너\">조셉 말로드 윌리엄 터너</a> 作<br/><a class=\"wiki-link-internal\" href=\"/w/HMS%20%ED%85%8C%EB%A9%94%EB%A0%88%EB%A5%B4\" title=\"HMS 테메레르\">전함 테메레르</a></div></td></tr><tr><td style=\"color:#000; background-color:#fd3; text-align:left;\"><div class=\"wiki-paragraph\"><strong>돌 머리의 조각</strong></div></td><td style=\"text-align:left;\"><div class=\"wiki-paragraph\">작자 미상<br/><a class=\"wiki-link-internal\" href=\"/w/%EC%98%AC%EB%A9%95\" title=\"올멕\">거대 두상</a></div></td><td style=\"text-align:left;\"><div class=\"wiki-paragraph\">입이 살짝 웃는 표정</div></td></tr><tr><td style=\"color:#000; background-color:#fd3; text-align:left;\"><div class=\"wiki-paragraph\">익숙한 조각</div></td><td style=\"text-align:left;\"><div class=\"wiki-paragraph\"><a class=\"wiki-link-internal\" href=\"/w/%EC%98%A4%EA%B7%80%EC%8A%A4%ED%8A%B8%20%EB%A1%9C%EB%8C%95\" title=\"오귀스트 로댕\">오귀스트 로댕</a> 作<br/><a class=\"wiki-link-internal\" href=\"/w/%EC%A7%80%EC%98%A5%EC%9D%98%20%EB%AC%B8\" title=\"지옥의 문\">생각하는 사람</a></div></td><td rowspan=\"11\" style=\"text-align:left;\"><div class=\"wiki-paragraph\">가품 없음</div></td></tr><tr><td style=\"color:#000; background-color:#fd3; text-align:left;\"><div class=\"wiki-paragraph\">훌륭한 명화</div></td><td style=\"text-align:left;\"><div class=\"wiki-paragraph\"><a class=\"wiki-link-internal\" href=\"/w/%ED%8F%B4%20%EC%84%B8%EC%9E%94\" title=\"폴 세잔\">폴 세잔</a> 作<br/>사과와 오렌지</div></td></tr><tr><td style=\"color:#000; background-color:#fd3; text-align:left;\"><div class=\"wiki-paragraph\">진귀한 명화</div></td><td style=\"text-align:left;\"><div class=\"wiki-paragraph\"><a class=\"wiki-link-internal\" href=\"/w/%EB%B9%88%EC%84%BC%ED%8A%B8%20%EB%B0%98%20%EA%B3%A0%ED%9D%90\" title=\"빈센트 반 고흐\">빈센트 반 고흐</a> 作<br/>해바라기<a class=\"wiki-fn-content\" href=\"#fn-8\" title=\"본작에서 나온 건 런던 내셔널 갤러리에 전시된 4번째 해바라기.\"><span class=\"target\" id=\"rfn-8\"></span>[8]</a></div></td></tr><tr><td style=\"color:#000; background-color:#fd3; text-align:left;\"><div class=\"wiki-paragraph\">반짝이는 명화</div></td><td style=\"text-align:left;\"><div class=\"wiki-paragraph\"><a class=\"wiki-link-internal\" href=\"/w/%EB%B9%88%EC%84%BC%ED%8A%B8%20%EB%B0%98%20%EA%B3%A0%ED%9D%90\" title=\"빈센트 반 고흐\">빈센트 반 고흐</a> 作<br/><a class=\"wiki-link-internal\" href=\"/w/%EB%B3%84%EC%9D%B4%20%EB%B9%9B%EB%82%98%EB%8A%94%20%EB%B0%A4\" title=\"별이 빛나는 밤\">별이 빛나는 밤</a></div></td></tr><tr><td style=\"color:#000; background-color:#fd3; text-align:left;\"><div class=\"wiki-paragraph\">평온한 명화</div></td><td style=\"text-align:left;\"><div class=\"wiki-paragraph\"><a class=\"wiki-link-internal\" href=\"/w/%EC%A1%B0%EB%A5%B4%EC%A3%BC%20%EC%87%A0%EB%9D%BC\" title=\"조르주 쇠라\">조르주 쇠라</a> 作<br/>그랑드자트 섬의 일요일 오후</div></td></tr><tr><td style=\"color:#000; background-color:#fd3; text-align:left;\"><div class=\"wiki-paragraph\">미스터리한 명화</div></td><td style=\"text-align:left;\"><div class=\"wiki-paragraph\">아놀드 뵈클린<a class=\"wiki-fn-content\" href=\"#fn-9\" title=\"스위스의 화가. 독일어 발음대로 표기하면 '아르놀트 뵈클린'이 맞다.\"><span class=\"target\" id=\"rfn-9\"></span>[9]</a> 作<br/>죽음의 섬<a class=\"wiki-fn-content\" href=\"#fn-10\" title=\"이쪽도 고흐의 해바라기와 마찬가지로 연작이며, 본작에서 나온 건 베를린 국립미술관에 전시된 3번째 작품. 아돌프 히틀러가 관저에 장식했던 그림이기도 하다.\"><span class=\"target\" id=\"rfn-10\"></span>[10]</a></div></td></tr><tr><td style=\"color:#000; background-color:#fd3; text-align:left;\"><div class=\"wiki-paragraph\">활기 넘치는 명화</div></td><td style=\"text-align:left;\"><div class=\"wiki-paragraph\"><a class=\"wiki-link-internal\" href=\"/w/%EC%97%90%EB%91%90%EC%95%84%EB%A5%B4%20%EB%A7%88%EB%84%A4\" title=\"에두아르 마네\">에두아르 마네</a> 作<br/>폴리베르제르 바</div></td></tr><tr><td style=\"color:#000; background-color:#fd3; text-align:left;\"><div class=\"wiki-paragraph\">좋은 명화</div></td><td style=\"text-align:left;\"><div class=\"wiki-paragraph\"><a class=\"wiki-link-internal\" href=\"/w/%EC%97%90%EB%91%90%EC%95%84%EB%A5%B4%20%EB%A7%88%EB%84%A4\" title=\"에두아르 마네\">에두아르 마네</a> 作<br/>피리 부는 소년</div></td></tr><tr><td style=\"color:#000; background-color:#fd3; text-align:left;\"><div class=\"wiki-paragraph\">가라앉는 명화</div></td><td style=\"text-align:left;\"><div class=\"wiki-paragraph\">존 에버렛 밀레이 作<br/><a class=\"wiki-link-internal\" href=\"/w/%EB%9D%BC%ED%8C%8C%EC%97%98%20%EC%A0%84%ED%8C%8C\" title=\"라파엘 전파\">오필리아</a></div></td></tr><tr><td style=\"color:#000; background-color:#fd3; text-align:left;\"><div class=\"wiki-paragraph\">평범한 명화</div></td><td style=\"text-align:left;\"><div class=\"wiki-paragraph\"><a class=\"wiki-link-internal\" href=\"/w/%EC%9E%A5%20%ED%94%84%EB%9E%91%EC%88%98%EC%95%84%20%EB%B0%80%EB%A0%88\" title=\"장 프랑수아 밀레\">장 프랑수아 밀레</a> 作<br/><a class=\"wiki-link-external\" href=\"https://ko.wikipedia.org/wiki/%EC%9D%B4%EC%82%AD_%EC%A4%8D%EB%8A%94_%EC%97%AC%EC%9D%B8%EB%93%A4\" rel=\"nofollow noopener\" target=\"_blank\" title=\"https://ko.wikipedia.org/wiki/%EC%9D%B4%EC%82%AD_%EC%A4%8D%EB%8A%94_%EC%97%AC%EC%9D%B8%EB%93%A4\">이삭 줍는 여인들</a></div></td></tr><tr><td style=\"color:#000; background-color:#fd3; text-align:left;\"><div class=\"wiki-paragraph\">힘찬 명화</div></td><td style=\"text-align:left;\"><div class=\"wiki-paragraph\"><a class=\"wiki-link-internal\" href=\"/w/%EC%9E%A5%20%ED%94%84%EB%9E%91%EC%88%98%EC%95%84%20%EB%B0%80%EB%A0%88\" title=\"장 프랑수아 밀레\">장 프랑수아 밀레</a> 作<br/>씨 뿌리는 사람</div></td></tr><tr><td style=\"color:#000; background-color:#fd3; text-align:left;\"><div class=\"wiki-paragraph\">혼란스러운 명화의 왼쪽</div></td><td style=\"text-align:left;\"><div class=\"wiki-paragraph\">다와라야 소타쓰 作<br/><a class=\"wiki-link-internal\" href=\"/w/%ED%92%8D%EC%8B%A0%EB%87%8C%EC%8B%A0%EB%8F%84\" title=\"풍신뇌신도\">풍신뇌신도 병풍(뇌신)</a></div></td><td style=\"text-align:left;\"><div class=\"wiki-paragraph\">뇌신의 색이 녹색</div></td></tr><tr><td style=\"color:#000; background-color:#fd3; text-align:left;\"><div class=\"wiki-paragraph\">혼란스러운 명화의 오른쪽</div></td><td style=\"text-align:left;\"><div class=\"wiki-paragraph\">다와라야 소타쓰 作<br/><a class=\"wiki-link-internal\" href=\"/w/%ED%92%8D%EC%8B%A0%EB%87%8C%EC%8B%A0%EB%8F%84\" title=\"풍신뇌신도\">풍신뇌신도 병풍(풍신)</a></div></td><td style=\"text-align:left;\"><div class=\"wiki-paragraph\">풍신의 색이 흰색</div></td></tr><tr><td style=\"color:#000; background-color:#fd3; text-align:left;\"><div class=\"wiki-paragraph\">태고의 조각</div></td><td style=\"text-align:left;\"><div class=\"wiki-paragraph\">작자 미상<br/><a class=\"wiki-link-internal\" href=\"/w/%EC%A1%B0%EB%AA%AC%20%EC%8B%9C%EB%8C%80#s-2.2\" title=\"조몬 시대\">차광기토우</a></div></td><td style=\"text-align:left;\"><div class=\"wiki-paragraph\">머리에 안테나가 달려있음<br/>눈에서 푸른 빛이 남(밤)<a class=\"wiki-fn-content\" href=\"#fn-11\" title=\"구입한 후 앞에서 A버튼을 누르면 몇초간 부유하는 모습을 보인다.아무리 봐도 외계인이 만든것 같다.\"><span class=\"target\" id=\"rfn-11\"></span>[11]</a></div></td></tr><tr><td style=\"color:#000; background-color:#fd3; text-align:left;\"><div class=\"wiki-paragraph\">씩씩한 명화</div></td><td style=\"text-align:left;\"><div class=\"wiki-paragraph\"><a class=\"wiki-link-internal\" href=\"/w/%ED%86%A0%EC%8A%88%EC%82%AC%EC%9D%B4%20%EC%83%A4%EB%9D%BC%EC%BF%A0\" title=\"토슈사이 샤라쿠\">도슈사이 샤라쿠</a> 作<br/>3대 오타니 오니지의 얏코에도베</div></td><td style=\"text-align:left;\"><div class=\"wiki-paragraph\">눈썹이 처져있음<br/>입이 웃는 표정(밤)</div></td></tr><tr><td style=\"color:#000; background-color:#fd3; text-align:left;\"><div class=\"wiki-paragraph\">멋들어진 명화</div></td><td style=\"text-align:left;\"><div class=\"wiki-paragraph\"><a class=\"wiki-link-internal\" href=\"/w/%EA%B0%80%EC%93%B0%EC%8B%9C%EC%B9%B4%20%ED%98%B8%EC%BF%A0%EC%82%AC%EC%9D%B4\" title=\"가쓰시카 호쿠사이\">가쓰시카 호쿠사이</a> 作<br/>후가쿠 36경 중 가나가와 해변 높은 파도 아래</div></td><td style=\"text-align:left;\"><div class=\"wiki-paragraph\">가품 없음</div></td></tr><tr><td style=\"color:#000; background-color:#fd3; text-align:left;\"><div class=\"wiki-paragraph\">절제된 명화</div></td><td style=\"text-align:left;\"><div class=\"wiki-paragraph\">히시카와 모로노부 作<br/>뒤돌아보는 미인</div></td><td style=\"text-align:left;\"><div class=\"wiki-paragraph\">여성의 크기가 크고, 오른쪽 기모노 소매 아래에 얼룩이 없음(공통)<br/>머리끈이 없음(낮)<br/>앞을 보고 있음<a class=\"wiki-fn-content\" href=\"#fn-12\" title=\"모든 명화들 중 유일하게 튀동숲 시절과 가품 특징이 같다.\"><span class=\"target\" id=\"rfn-12\"></span>[12]</a>(밤)</div></td></tr><tr><td style=\"color:#000; background-color:#fd3; text-align:left;\"><div class=\"wiki-paragraph\">섬세한 명화</div></td><td style=\"text-align:left;\"><div class=\"wiki-paragraph\">이토 쟈쿠츄 作<br/>자양화 쌍계도</div></td><td style=\"text-align:left;\"><div class=\"wiki-paragraph\">그림 왼쪽에 문구와 도장이 없고, 수국의 색이 보라색</div></td></tr><tr><td style=\"color:#000; background-color:#fd3; text-align:left;\"><div class=\"wiki-paragraph\">무사의 조각</div></td><td style=\"text-align:left;\"><div class=\"wiki-paragraph\">작자 미상<br/><a class=\"wiki-link-internal\" href=\"/w/%EC%A7%84%EC%8B%9C%ED%99%A9%EB%A6%89\" title=\"진시황릉\">병마용</a></div></td><td style=\"text-align:left;\"><div class=\"wiki-paragraph\">토목공사용 삽을 들고 있음</div></td></tr><tr><td style=\"color:#000; background-color:#fd3; text-align:left;\"><div class=\"wiki-paragraph\"><strong>어마어마한 조각</strong></div></td><td style=\"text-align:left;\"><div class=\"wiki-paragraph\">작자 미상<br/>후모무<a class=\"wiki-link-internal\" href=\"/w/%E9%BC%8E\" title=\"鼎\">정</a></div></td><td style=\"text-align:left;\"><div class=\"wiki-paragraph\">손잡이 달린 뚜껑이 덮여있음</div></td></tr></tbody></table></div></div></div></td></tr></tbody></table>\n"
     ]
    }
   ],
   "source": [
    "print(t[4])"
   ]
  },
  {
   "cell_type": "code",
   "execution_count": 5,
   "metadata": {},
   "outputs": [
    {
     "name": "stdout",
     "output_type": "stream",
     "text": [
      "[<strong><span class=\"wiki-color\" style=\"color:#fff\"><span class=\"wiki-size size-up-3\">미술품</span></span></strong>, <strong>거룩한 조각</strong>, <strong>늠름한 조각</strong>, <strong>위대한 조각</strong>, <strong>돌 머리의 조각</strong>, <strong>어마어마한 조각</strong>]\n"
     ]
    }
   ],
   "source": [
    "col = t[4].tr # 실제 곤충 데이터가 있는 테이블 설정"
   ]
  },
  {
   "cell_type": "code",
   "execution_count": 8,
   "metadata": {},
   "outputs": [],
   "source": [
    "columns = ['명칭', '실제미술품', '가품특징']"
   ]
  },
  {
   "cell_type": "code",
   "execution_count": 9,
   "metadata": {},
   "outputs": [
    {
     "name": "stdout",
     "output_type": "stream",
     "text": [
      "Empty DataFrame\n",
      "Columns: [명칭, 실제미술품, 가품특징]\n",
      "Index: []\n"
     ]
    }
   ],
   "source": [
    "df = pd.DataFrame(columns = columns)\n",
    "print(df) # 칼럼만 있는 데이터 생성"
   ]
  },
  {
   "cell_type": "code",
   "execution_count": 14,
   "metadata": {},
   "outputs": [
    {
     "name": "stdout",
     "output_type": "stream",
     "text": [
      "39\n"
     ]
    }
   ],
   "source": [
    "content = t[4].select('td')\n",
    "flist = []\n",
    "for fossil in content:\n",
    "    flist.append(fossil.text)\n",
    "flist = flist[4:]\n",
    "print(len(flist)//3)"
   ]
  },
  {
   "cell_type": "code",
   "execution_count": 15,
   "metadata": {},
   "outputs": [],
   "source": [
    "for j in range(39):\n",
    "    df.loc[j] = (flist[j * 3],flist[j * 3+1], flist[j * 3+2]) # 0 6 7 13"
   ]
  },
  {
   "cell_type": "code",
   "execution_count": 17,
   "metadata": {},
   "outputs": [
    {
     "name": "stdout",
     "output_type": "stream",
     "text": [
      "          명칭                                  실제미술품  \\\n",
      "34   멋들어진 명화  가쓰시카 호쿠사이 作후가쿠 36경 중 가나가와 해변 높은 파도 아래   \n",
      "35    절제된 명화                    히시카와 모로노부 作뒤돌아보는 미인   \n",
      "36    섬세한 명화                        이토 쟈쿠츄 作자양화 쌍계도   \n",
      "37    무사의 조각                               작자 미상병마용   \n",
      "38  어마어마한 조각                              작자 미상후모무정   \n",
      "\n",
      "                                                 가품특징  \n",
      "34                                              가품 없음  \n",
      "35  여성의 크기가 크고, 오른쪽 기모노 소매 아래에 얼룩이 없음(공통)머리끈이 없음(낮...  \n",
      "36                      그림 왼쪽에 문구와 도장이 없고, 수국의 색이 보라색  \n",
      "37                                     토목공사용 삽을 들고 있음  \n",
      "38                                    손잡이 달린 뚜껑이 덮여있음  \n"
     ]
    }
   ],
   "source": [
    "print(df.tail())"
   ]
  },
  {
   "cell_type": "code",
   "execution_count": 18,
   "metadata": {},
   "outputs": [],
   "source": [
    "df.to_excel('paintings.xlsx')"
   ]
  },
  {
   "cell_type": "code",
   "execution_count": null,
   "metadata": {},
   "outputs": [],
   "source": []
  }
 ],
 "metadata": {
  "kernelspec": {
   "display_name": "Python 3",
   "language": "python",
   "name": "python3"
  },
  "language_info": {
   "codemirror_mode": {
    "name": "ipython",
    "version": 3
   },
   "file_extension": ".py",
   "mimetype": "text/x-python",
   "name": "python",
   "nbconvert_exporter": "python",
   "pygments_lexer": "ipython3",
   "version": "3.7.6"
  }
 },
 "nbformat": 4,
 "nbformat_minor": 4
}
